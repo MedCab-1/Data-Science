{
  "nbformat": 4,
  "nbformat_minor": 0,
  "metadata": {
    "colab": {
      "name": "MedCab1 - Data Analysis",
      "provenance": [],
      "authorship_tag": "ABX9TyPtXKXld98+AcYRPSMyImZ0",
      "include_colab_link": true
    },
    "kernelspec": {
      "name": "python3",
      "display_name": "Python 3"
    }
  },
  "cells": [
    {
      "cell_type": "markdown",
      "metadata": {
        "id": "view-in-github",
        "colab_type": "text"
      },
      "source": [
        "<a href=\"https://colab.research.google.com/github/shmilyface/Data-Science/blob/master/MedCab1_Data_Analysis.ipynb\" target=\"_parent\"><img src=\"https://colab.research.google.com/assets/colab-badge.svg\" alt=\"Open In Colab\"/></a>"
      ]
    },
    {
      "cell_type": "markdown",
      "metadata": {
        "id": "pyDiR5VjvNEp",
        "colab_type": "text"
      },
      "source": [
        "# Summary"
      ]
    },
    {
      "cell_type": "markdown",
      "metadata": {
        "id": "kPpKrBpkvQWq",
        "colab_type": "text"
      },
      "source": [
        "## Imports"
      ]
    },
    {
      "cell_type": "code",
      "metadata": {
        "id": "UQzOLHN5vL9P",
        "colab_type": "code",
        "colab": {
          "base_uri": "https://localhost:8080/",
          "height": 292
        },
        "outputId": "c6327579-e958-4d02-b91f-115a6d999949"
      },
      "source": [
        "# Imports\n",
        "import pandas as pd\n",
        "import numpy as np\n",
        "\n",
        "!pip install squarify\n",
        "!pip install category-encoders\n",
        "\n",
        "# Base\n",
        "from collections import Counter\n",
        "import re\n",
        "\n",
        "\n",
        "# Plotting\n",
        "import squarify\n",
        "import matplotlib.pyplot as plt\n",
        "import seaborn as sns\n",
        "\n",
        "# NLP Libraries\n",
        "import spacy\n",
        "from spacy.tokenizer import Tokenizer\n",
        "from nltk.stem import PorterStemmer\n",
        "from spacy.matcher import Matcher\n",
        "import category_encoders as ce\n",
        "from sklearn.impute import SimpleImputer\n",
        "from sklearn.pipeline import make_pipeline\n",
        "from sklearn.preprocessing import StandardScaler\n",
        "from sklearn.tree import DecisionTreeClassifier\n",
        "\n",
        "!python -m spacy download en_core_web_sm\n",
        "\n",
        "from sklearn.pipeline import Pipeline\n",
        "from sklearn.datasets import fetch_20newsgroups\n",
        "from sklearn.ensemble import RandomForestClassifier\n",
        "from sklearn.model_selection import GridSearchCV\n",
        "from sklearn.feature_extraction.text import TfidfVectorizer\n",
        "from sklearn.model_selection import GridSearchCV, RandomizedSearchCV\n",
        "import pandas as pd\n",
        "from sklearn.decomposition import TruncatedSVD\n",
        "import spacy\n",
        "# Import the English language class\n",
        "from spacy.lang.en import English"
      ],
      "execution_count": 58,
      "outputs": [
        {
          "output_type": "stream",
          "text": [
            "Requirement already satisfied: squarify in /usr/local/lib/python3.6/dist-packages (0.4.3)\n",
            "Requirement already satisfied: category-encoders in /usr/local/lib/python3.6/dist-packages (2.1.0)\n",
            "Requirement already satisfied: scikit-learn>=0.20.0 in /usr/local/lib/python3.6/dist-packages (from category-encoders) (0.22.1)\n",
            "Requirement already satisfied: patsy>=0.4.1 in /usr/local/lib/python3.6/dist-packages (from category-encoders) (0.5.1)\n",
            "Requirement already satisfied: numpy>=1.11.3 in /usr/local/lib/python3.6/dist-packages (from category-encoders) (1.17.5)\n",
            "Requirement already satisfied: pandas>=0.21.1 in /usr/local/lib/python3.6/dist-packages (from category-encoders) (0.25.3)\n",
            "Requirement already satisfied: scipy>=0.19.0 in /usr/local/lib/python3.6/dist-packages (from category-encoders) (1.4.1)\n",
            "Requirement already satisfied: statsmodels>=0.6.1 in /usr/local/lib/python3.6/dist-packages (from category-encoders) (0.10.2)\n",
            "Requirement already satisfied: joblib>=0.11 in /usr/local/lib/python3.6/dist-packages (from scikit-learn>=0.20.0->category-encoders) (0.14.1)\n",
            "Requirement already satisfied: six in /usr/local/lib/python3.6/dist-packages (from patsy>=0.4.1->category-encoders) (1.12.0)\n",
            "Requirement already satisfied: pytz>=2017.2 in /usr/local/lib/python3.6/dist-packages (from pandas>=0.21.1->category-encoders) (2018.9)\n",
            "Requirement already satisfied: python-dateutil>=2.6.1 in /usr/local/lib/python3.6/dist-packages (from pandas>=0.21.1->category-encoders) (2.6.1)\n",
            "Requirement already satisfied: en_core_web_sm==2.1.0 from https://github.com/explosion/spacy-models/releases/download/en_core_web_sm-2.1.0/en_core_web_sm-2.1.0.tar.gz#egg=en_core_web_sm==2.1.0 in /usr/local/lib/python3.6/dist-packages (2.1.0)\n",
            "\u001b[38;5;2m✔ Download and installation successful\u001b[0m\n",
            "You can now load the model via spacy.load('en_core_web_sm')\n"
          ],
          "name": "stdout"
        }
      ]
    },
    {
      "cell_type": "code",
      "metadata": {
        "id": "JrFLkTk0bYhZ",
        "colab_type": "code",
        "colab": {
          "base_uri": "https://localhost:8080/",
          "height": 391
        },
        "outputId": "17cb3fda-d6c4-4c10-c890-7d6bdf254cb1"
      },
      "source": [
        "#so more head displays\n",
        "#override display option\n",
        "pd.set_option('display.max_rows', 500)\n",
        "pd.set_option('display.max_columns', 500)\n",
        "pd.set_option('display.width', 1000)\n",
        "!wget https://raw.githubusercontent.com/MedCabinet/ML_Machine_Learning_Files/master/med1.csv\n",
        "!wget https://raw.githubusercontent.com/MedCabinet/medicalcabinet_api/master/symptoms8_medcab3.csv"
      ],
      "execution_count": 59,
      "outputs": [
        {
          "output_type": "stream",
          "text": [
            "--2020-02-03 20:45:33--  https://raw.githubusercontent.com/MedCabinet/ML_Machine_Learning_Files/master/med1.csv\n",
            "Resolving raw.githubusercontent.com (raw.githubusercontent.com)... 151.101.0.133, 151.101.64.133, 151.101.128.133, ...\n",
            "Connecting to raw.githubusercontent.com (raw.githubusercontent.com)|151.101.0.133|:443... connected.\n",
            "HTTP request sent, awaiting response... 200 OK\n",
            "Length: 1267451 (1.2M) [text/plain]\n",
            "Saving to: ‘med1.csv.3’\n",
            "\n",
            "\rmed1.csv.3            0%[                    ]       0  --.-KB/s               \rmed1.csv.3          100%[===================>]   1.21M  --.-KB/s    in 0.06s   \n",
            "\n",
            "2020-02-03 20:45:33 (21.3 MB/s) - ‘med1.csv.3’ saved [1267451/1267451]\n",
            "\n",
            "--2020-02-03 20:45:34--  https://raw.githubusercontent.com/MedCabinet/medicalcabinet_api/master/symptoms8_medcab3.csv\n",
            "Resolving raw.githubusercontent.com (raw.githubusercontent.com)... 151.101.0.133, 151.101.64.133, 151.101.128.133, ...\n",
            "Connecting to raw.githubusercontent.com (raw.githubusercontent.com)|151.101.0.133|:443... connected.\n",
            "HTTP request sent, awaiting response... 200 OK\n",
            "Length: 1497841 (1.4M) [text/plain]\n",
            "Saving to: ‘symptoms8_medcab3.csv.3’\n",
            "\n",
            "symptoms8_medcab3.c 100%[===================>]   1.43M  --.-KB/s    in 0.06s   \n",
            "\n",
            "2020-02-03 20:45:34 (23.7 MB/s) - ‘symptoms8_medcab3.csv.3’ saved [1497841/1497841]\n",
            "\n"
          ],
          "name": "stdout"
        }
      ]
    },
    {
      "cell_type": "code",
      "metadata": {
        "id": "S7uLsky7bp8N",
        "colab_type": "code",
        "colab": {}
      },
      "source": [
        "df = pd.read_csv('med1.csv')\n",
        "\n",
        "text = pd.read_csv('med1.csv')\n"
      ],
      "execution_count": 0,
      "outputs": []
    },
    {
      "cell_type": "code",
      "metadata": {
        "id": "zJwrwqHMbyUz",
        "colab_type": "code",
        "colab": {
          "base_uri": "https://localhost:8080/",
          "height": 204
        },
        "outputId": "fafa1567-2bba-4152-854b-4b2d089b5775"
      },
      "source": [
        "df.head()"
      ],
      "execution_count": 61,
      "outputs": [
        {
          "output_type": "execute_result",
          "data": {
            "text/html": [
              "<div>\n",
              "<style scoped>\n",
              "    .dataframe tbody tr th:only-of-type {\n",
              "        vertical-align: middle;\n",
              "    }\n",
              "\n",
              "    .dataframe tbody tr th {\n",
              "        vertical-align: top;\n",
              "    }\n",
              "\n",
              "    .dataframe thead th {\n",
              "        text-align: right;\n",
              "    }\n",
              "</style>\n",
              "<table border=\"1\" class=\"dataframe\">\n",
              "  <thead>\n",
              "    <tr style=\"text-align: right;\">\n",
              "      <th></th>\n",
              "      <th>Strain</th>\n",
              "      <th>Type</th>\n",
              "      <th>Rating</th>\n",
              "      <th>Effects</th>\n",
              "      <th>Flavor</th>\n",
              "      <th>Description</th>\n",
              "    </tr>\n",
              "  </thead>\n",
              "  <tbody>\n",
              "    <tr>\n",
              "      <th>0</th>\n",
              "      <td>100-Og</td>\n",
              "      <td>hybrid</td>\n",
              "      <td>4.0</td>\n",
              "      <td>Creative,Energetic,Tingly,Euphoric,Relaxed</td>\n",
              "      <td>Earthy,Sweet,Citrus</td>\n",
              "      <td>$100 OG is a 50/50 hybrid strain that packs a ...</td>\n",
              "    </tr>\n",
              "    <tr>\n",
              "      <th>1</th>\n",
              "      <td>98-White-Widow</td>\n",
              "      <td>hybrid</td>\n",
              "      <td>4.7</td>\n",
              "      <td>Relaxed,Aroused,Creative,Happy,Energetic</td>\n",
              "      <td>Flowery,Violet,Diesel</td>\n",
              "      <td>The ‘98 Aloha White Widow is an especially pot...</td>\n",
              "    </tr>\n",
              "    <tr>\n",
              "      <th>2</th>\n",
              "      <td>1024</td>\n",
              "      <td>sativa</td>\n",
              "      <td>4.4</td>\n",
              "      <td>Uplifted,Happy,Relaxed,Energetic,Creative</td>\n",
              "      <td>Spicy/Herbal,Sage,Woody</td>\n",
              "      <td>1024 is a sativa-dominant hybrid bred in Spain...</td>\n",
              "    </tr>\n",
              "    <tr>\n",
              "      <th>3</th>\n",
              "      <td>13-Dawgs</td>\n",
              "      <td>hybrid</td>\n",
              "      <td>4.2</td>\n",
              "      <td>Tingly,Creative,Hungry,Relaxed,Uplifted</td>\n",
              "      <td>Apricot,Citrus,Grapefruit</td>\n",
              "      <td>13 Dawgs is a hybrid of G13 and Chemdawg genet...</td>\n",
              "    </tr>\n",
              "    <tr>\n",
              "      <th>4</th>\n",
              "      <td>24K-Gold</td>\n",
              "      <td>hybrid</td>\n",
              "      <td>4.6</td>\n",
              "      <td>Happy,Relaxed,Euphoric,Uplifted,Talkative</td>\n",
              "      <td>Citrus,Earthy,Orange</td>\n",
              "      <td>Also known as Kosher Tangie, 24k Gold is a 60%...</td>\n",
              "    </tr>\n",
              "  </tbody>\n",
              "</table>\n",
              "</div>"
            ],
            "text/plain": [
              "           Strain    Type  Rating                                     Effects                     Flavor                                        Description\n",
              "0          100-Og  hybrid     4.0  Creative,Energetic,Tingly,Euphoric,Relaxed        Earthy,Sweet,Citrus  $100 OG is a 50/50 hybrid strain that packs a ...\n",
              "1  98-White-Widow  hybrid     4.7    Relaxed,Aroused,Creative,Happy,Energetic      Flowery,Violet,Diesel  The ‘98 Aloha White Widow is an especially pot...\n",
              "2            1024  sativa     4.4   Uplifted,Happy,Relaxed,Energetic,Creative    Spicy/Herbal,Sage,Woody  1024 is a sativa-dominant hybrid bred in Spain...\n",
              "3        13-Dawgs  hybrid     4.2     Tingly,Creative,Hungry,Relaxed,Uplifted  Apricot,Citrus,Grapefruit  13 Dawgs is a hybrid of G13 and Chemdawg genet...\n",
              "4        24K-Gold  hybrid     4.6   Happy,Relaxed,Euphoric,Uplifted,Talkative       Citrus,Earthy,Orange  Also known as Kosher Tangie, 24k Gold is a 60%..."
            ]
          },
          "metadata": {
            "tags": []
          },
          "execution_count": 61
        }
      ]
    },
    {
      "cell_type": "code",
      "metadata": {
        "id": "9N7X38i5bz37",
        "colab_type": "code",
        "colab": {}
      },
      "source": [
        "df['Flavor'] = df['Flavor'].str.replace(',', ', ')\n",
        "df['Effects'] = df['Effects'].str.replace(',', ', ')\n"
      ],
      "execution_count": 0,
      "outputs": []
    },
    {
      "cell_type": "code",
      "metadata": {
        "id": "A7mUfxJVcS2M",
        "colab_type": "code",
        "colab": {}
      },
      "source": [
        "text['Flavor'] = text['Flavor'].str.replace(',', ', ')\n",
        "text['Effects'] = text['Effects'].str.replace(',', ', ')"
      ],
      "execution_count": 0,
      "outputs": []
    },
    {
      "cell_type": "code",
      "metadata": {
        "id": "Tyqwgz4xcbWr",
        "colab_type": "code",
        "colab": {}
      },
      "source": [
        "df['Description'] = df['Description'].str.replace(',', ' ')\n",
        "text['Description'] = text['Description'].str.replace(',', ' ')\n",
        "df['Description'] = df['Description'].str.replace(',', ' ')\n",
        "text['Description'] = text['Description'].str.replace(',', ' ')"
      ],
      "execution_count": 0,
      "outputs": []
    },
    {
      "cell_type": "code",
      "metadata": {
        "id": "LSoNL7J8coBD",
        "colab_type": "code",
        "colab": {
          "base_uri": "https://localhost:8080/",
          "height": 204
        },
        "outputId": "710839fb-82a1-4f3f-bb29-58d3d23823ca"
      },
      "source": [
        "df.head()"
      ],
      "execution_count": 65,
      "outputs": [
        {
          "output_type": "execute_result",
          "data": {
            "text/html": [
              "<div>\n",
              "<style scoped>\n",
              "    .dataframe tbody tr th:only-of-type {\n",
              "        vertical-align: middle;\n",
              "    }\n",
              "\n",
              "    .dataframe tbody tr th {\n",
              "        vertical-align: top;\n",
              "    }\n",
              "\n",
              "    .dataframe thead th {\n",
              "        text-align: right;\n",
              "    }\n",
              "</style>\n",
              "<table border=\"1\" class=\"dataframe\">\n",
              "  <thead>\n",
              "    <tr style=\"text-align: right;\">\n",
              "      <th></th>\n",
              "      <th>Strain</th>\n",
              "      <th>Type</th>\n",
              "      <th>Rating</th>\n",
              "      <th>Effects</th>\n",
              "      <th>Flavor</th>\n",
              "      <th>Description</th>\n",
              "    </tr>\n",
              "  </thead>\n",
              "  <tbody>\n",
              "    <tr>\n",
              "      <th>0</th>\n",
              "      <td>100-Og</td>\n",
              "      <td>hybrid</td>\n",
              "      <td>4.0</td>\n",
              "      <td>Creative, Energetic, Tingly, Euphoric, Relaxed</td>\n",
              "      <td>Earthy, Sweet, Citrus</td>\n",
              "      <td>$100 OG is a 50/50 hybrid strain that packs a ...</td>\n",
              "    </tr>\n",
              "    <tr>\n",
              "      <th>1</th>\n",
              "      <td>98-White-Widow</td>\n",
              "      <td>hybrid</td>\n",
              "      <td>4.7</td>\n",
              "      <td>Relaxed, Aroused, Creative, Happy, Energetic</td>\n",
              "      <td>Flowery, Violet, Diesel</td>\n",
              "      <td>The ‘98 Aloha White Widow is an especially pot...</td>\n",
              "    </tr>\n",
              "    <tr>\n",
              "      <th>2</th>\n",
              "      <td>1024</td>\n",
              "      <td>sativa</td>\n",
              "      <td>4.4</td>\n",
              "      <td>Uplifted, Happy, Relaxed, Energetic, Creative</td>\n",
              "      <td>Spicy/Herbal, Sage, Woody</td>\n",
              "      <td>1024 is a sativa-dominant hybrid bred in Spain...</td>\n",
              "    </tr>\n",
              "    <tr>\n",
              "      <th>3</th>\n",
              "      <td>13-Dawgs</td>\n",
              "      <td>hybrid</td>\n",
              "      <td>4.2</td>\n",
              "      <td>Tingly, Creative, Hungry, Relaxed, Uplifted</td>\n",
              "      <td>Apricot, Citrus, Grapefruit</td>\n",
              "      <td>13 Dawgs is a hybrid of G13 and Chemdawg genet...</td>\n",
              "    </tr>\n",
              "    <tr>\n",
              "      <th>4</th>\n",
              "      <td>24K-Gold</td>\n",
              "      <td>hybrid</td>\n",
              "      <td>4.6</td>\n",
              "      <td>Happy, Relaxed, Euphoric, Uplifted, Talkative</td>\n",
              "      <td>Citrus, Earthy, Orange</td>\n",
              "      <td>Also known as Kosher Tangie  24k Gold is a 60%...</td>\n",
              "    </tr>\n",
              "  </tbody>\n",
              "</table>\n",
              "</div>"
            ],
            "text/plain": [
              "           Strain    Type  Rating                                         Effects                       Flavor                                        Description\n",
              "0          100-Og  hybrid     4.0  Creative, Energetic, Tingly, Euphoric, Relaxed        Earthy, Sweet, Citrus  $100 OG is a 50/50 hybrid strain that packs a ...\n",
              "1  98-White-Widow  hybrid     4.7    Relaxed, Aroused, Creative, Happy, Energetic      Flowery, Violet, Diesel  The ‘98 Aloha White Widow is an especially pot...\n",
              "2            1024  sativa     4.4   Uplifted, Happy, Relaxed, Energetic, Creative    Spicy/Herbal, Sage, Woody  1024 is a sativa-dominant hybrid bred in Spain...\n",
              "3        13-Dawgs  hybrid     4.2     Tingly, Creative, Hungry, Relaxed, Uplifted  Apricot, Citrus, Grapefruit  13 Dawgs is a hybrid of G13 and Chemdawg genet...\n",
              "4        24K-Gold  hybrid     4.6   Happy, Relaxed, Euphoric, Uplifted, Talkative       Citrus, Earthy, Orange  Also known as Kosher Tangie  24k Gold is a 60%..."
            ]
          },
          "metadata": {
            "tags": []
          },
          "execution_count": 65
        }
      ]
    },
    {
      "cell_type": "code",
      "metadata": {
        "id": "y_MOve9Mcpcz",
        "colab_type": "code",
        "colab": {
          "base_uri": "https://localhost:8080/",
          "height": 136
        },
        "outputId": "a45161e1-452e-473d-8241-2843a9753cb9"
      },
      "source": [
        "df.dtypes"
      ],
      "execution_count": 66,
      "outputs": [
        {
          "output_type": "execute_result",
          "data": {
            "text/plain": [
              "Strain          object\n",
              "Type            object\n",
              "Rating         float64\n",
              "Effects         object\n",
              "Flavor          object\n",
              "Description     object\n",
              "dtype: object"
            ]
          },
          "metadata": {
            "tags": []
          },
          "execution_count": 66
        }
      ]
    },
    {
      "cell_type": "code",
      "metadata": {
        "id": "lGVPIj5Xcy0a",
        "colab_type": "code",
        "colab": {
          "base_uri": "https://localhost:8080/",
          "height": 221
        },
        "outputId": "4f7d8f91-0de3-4917-dba6-5df21f1fbd42"
      },
      "source": [
        "#Y\n",
        "\n",
        "df['Strain'].nunique"
      ],
      "execution_count": 67,
      "outputs": [
        {
          "output_type": "execute_result",
          "data": {
            "text/plain": [
              "<bound method IndexOpsMixin.nunique of 0               100-Og\n",
              "1       98-White-Widow\n",
              "2                 1024\n",
              "3             13-Dawgs\n",
              "4             24K-Gold\n",
              "             ...      \n",
              "2346           Zeus-Og\n",
              "2347          Zkittlez\n",
              "2348       Zombie-Kush\n",
              "2349         Zombie-Og\n",
              "2350          Zoom-Pie\n",
              "Name: Strain, Length: 2351, dtype: object>"
            ]
          },
          "metadata": {
            "tags": []
          },
          "execution_count": 67
        }
      ]
    },
    {
      "cell_type": "code",
      "metadata": {
        "id": "_FIPXPbkc6Ci",
        "colab_type": "code",
        "colab": {}
      },
      "source": [
        "#X\n",
        "\n",
        "type_data = df['Type']\n",
        "type_series = pd.Series(type_data)\n",
        "\n",
        "# making binary feature columns\n",
        "df['hybrid_type'] = type_series.str.contains('hybrid', regex=False)\n",
        "df['sativa_type'] = type_series.str.contains('sativa', regex=False)\n",
        "df['indica_type'] = type_series.str.contains('indica', regex=False)"
      ],
      "execution_count": 0,
      "outputs": []
    },
    {
      "cell_type": "code",
      "metadata": {
        "id": "ye46UUsDdTi5",
        "colab_type": "code",
        "colab": {}
      },
      "source": [
        "flavor_data = df['Flavor']\n",
        "flavor_series = pd.Series(flavor_data)"
      ],
      "execution_count": 0,
      "outputs": []
    },
    {
      "cell_type": "code",
      "metadata": {
        "id": "4e_NWH38daQh",
        "colab_type": "code",
        "colab": {}
      },
      "source": [
        "df['Ammonia_flavor'] = flavor_series.str.contains('Ammonia', regex=False)\n",
        "df['Apple_flavor'] = flavor_series.str.contains('Apple', regex=False)\n",
        "df['Apricot_flavor'] = flavor_series.str.contains('Apricot', regex=False)\n",
        "\n",
        "df['Berry_flavor'] = flavor_series.str.contains('Berry', regex=False)\n",
        "df['Blue_flavor'] = flavor_series.str.contains('Blue', regex=False)\n",
        "df['Blueberry_flavor'] = flavor_series.str.contains('Blueberry', regex=False)\n",
        "\n",
        "df['Citrus_flavor'] = flavor_series.str.contains('Citrus', regex=False)\n",
        "df['Cheese_flavor'] = flavor_series.str.contains('Cheese', regex=False)\n",
        "df['Chemical_flavor'] = flavor_series.str.contains('Chemical', regex=False)\n",
        "df['Chestnut_flavor'] = flavor_series.str.contains('Chestnut', regex=False)\n",
        "\n",
        "df['Diesel_flavor'] = flavor_series.str.contains('Diesel', regex=False)\n",
        "\n",
        "df['Earthy_flavor'] = flavor_series.str.contains('Earthy', regex=False)\n",
        "\n",
        "df['Flowery_flavor'] = flavor_series.str.contains('Flowery', regex=False)\n",
        "df['Fruit_flavor'] = flavor_series.str.contains('Fruit', regex=False)\n",
        "\n",
        "df['Grape_flavor'] = flavor_series.str.contains('Grape', regex=False)\n",
        "df['Grapefruit_flavor'] = flavor_series.str.contains('Grapefruit', regex=False)\n",
        "\n",
        "df['Honey_flavor'] = flavor_series.str.contains('Honey', regex=False)\n",
        "\n",
        "df['Lavender_flavor'] = flavor_series.str.contains('Lavender', regex=False)\n",
        "df['Lemon_flavor'] = flavor_series.str.contains('Lemon', regex=False)\n",
        "\n",
        "df['Mango_flavor'] = flavor_series.str.contains('Mango', regex=False)\n",
        "df['Menthol_flavor'] = flavor_series.str.contains('Menthol', regex=False)\n",
        "df['Mint_flavor'] = flavor_series.str.contains('Mint', regex=False)\n",
        "df['Minty_flavor'] = flavor_series.str.contains('Minty', regex=False)\n",
        "\n",
        "df['Nutty_flavor'] = flavor_series.str.contains('Nutty', regex=False)\n",
        "df['Orange_flavor'] = flavor_series.str.contains('Orange', regex=False)\n",
        "\n",
        "df['Peach_flavor'] = flavor_series.str.contains('Peach', regex=False)\n",
        "df['Pepper_flavor'] = flavor_series.str.contains('Pepper', regex=False)\n",
        "df['Pine_flavor'] = flavor_series.str.contains('Pine', regex=False)\n",
        "df['Pineapple_flavor'] = flavor_series.str.contains('Pineapple', regex=False)\n",
        "df['Pungent_flavor'] = flavor_series.str.contains('Pungent', regex=False)\n",
        "\n",
        "df['Sage_flavor'] = flavor_series.str.contains('Sage', regex=False)\n",
        "df['Skunk_flavor'] = flavor_series.str.contains('Skunk', regex=False)\n",
        "df['SpicyHerbal_flavor'] = flavor_series.str.contains('Spicy/Herbal', regex=False)\n",
        "df['Strawberry'] = flavor_series.str.contains('Strawberry', regex=False)\n",
        "df['Sweet_flavor'] = flavor_series.str.contains('Sweet', regex=False)\n",
        "\n",
        "df['Tea_flavor'] = flavor_series.str.contains('Tea', regex=False)\n",
        "df['Tobacco_flavor'] = flavor_series.str.contains('Tobacco', regex=False)\n",
        "df['Tree_flavor'] = flavor_series.str.contains('Tree', regex=False)\n",
        "df['Tropical_flavor'] = flavor_series.str.contains('Tropical', regex=False)\n",
        "\n",
        "df['Vanilla_flavor'] = flavor_series.str.contains('Vanilla', regex=False)\n",
        "df['Violet_flavor'] = flavor_series.str.contains('Violet', regex=False)\n",
        "\n",
        "df['Woody_flavor'] = flavor_series.str.contains('Woody', regex=False)"
      ],
      "execution_count": 0,
      "outputs": []
    },
    {
      "cell_type": "code",
      "metadata": {
        "id": "-Wg6GOsidceF",
        "colab_type": "code",
        "colab": {}
      },
      "source": [
        "effect_data = df['Effects']\n",
        "effect_series = pd.Series(effect_data)"
      ],
      "execution_count": 0,
      "outputs": []
    },
    {
      "cell_type": "code",
      "metadata": {
        "id": "guLKNJ5jdvP9",
        "colab_type": "code",
        "colab": {}
      },
      "source": [
        "# making binary feature columns\n",
        "df['Aroused_effect'] = effect_series.str.contains('Aroused', regex=False)\n",
        "\n",
        "df['Creative_effect'] = effect_series.str.contains('Creative', regex=False)\n",
        "\n",
        "df['Energetic_effect'] = effect_series.str.contains('Energetic', regex=False)\n",
        "df['Euphoric_effect'] = effect_series.str.contains('Euphoric', regex=False)\n",
        "\n",
        "\n",
        "\n",
        "df['Focused_effect'] = effect_series.str.contains('Focused', regex=False)\n",
        "\n",
        "\n",
        "df['Giggly_effect'] = effect_series.str.contains('Giggly', regex=False)\n",
        "\n",
        "\n",
        "df['Happy_effect'] = effect_series.str.contains('Happy', regex=False)\n",
        "df['Hungry_effect'] = effect_series.str.contains('Hungry', regex=False)\n",
        "\n",
        "\n",
        "\n",
        "\n",
        "df['Relaxed_effect'] = effect_series.str.contains('Relaxed', regex=False)\n",
        "\n",
        "\n",
        "df['Sleepy_effect'] = effect_series.str.contains('Sleepy', regex=False)\n",
        "\n",
        "\n",
        "df['Talkative_effect'] = effect_series.str.contains('Talkative', regex=False)\n",
        "df['Tingly_effect'] = effect_series.str.contains('Tingly', regex=False)\n",
        "\n",
        "\n",
        "\n",
        "df['Uplifted_effect'] = effect_series.str.contains('Uplifted', regex=False)\n",
        "\n",
        "\n",
        "df['None_effect'] = effect_series.str.contains('None', regex=False)"
      ],
      "execution_count": 0,
      "outputs": []
    },
    {
      "cell_type": "code",
      "metadata": {
        "id": "ZmWLNeQ7d0NV",
        "colab_type": "code",
        "colab": {}
      },
      "source": [
        "df_float = df.replace([True, False],\n",
        "                    [1.0, 0.0]) "
      ],
      "execution_count": 0,
      "outputs": []
    },
    {
      "cell_type": "code",
      "metadata": {
        "id": "2f9JO6FGd4JZ",
        "colab_type": "code",
        "colab": {
          "base_uri": "https://localhost:8080/",
          "height": 366
        },
        "outputId": "636cd626-eff6-48b2-967f-fdac478c597b"
      },
      "source": [
        "df_float.head(3)"
      ],
      "execution_count": 74,
      "outputs": [
        {
          "output_type": "execute_result",
          "data": {
            "text/html": [
              "<div>\n",
              "<style scoped>\n",
              "    .dataframe tbody tr th:only-of-type {\n",
              "        vertical-align: middle;\n",
              "    }\n",
              "\n",
              "    .dataframe tbody tr th {\n",
              "        vertical-align: top;\n",
              "    }\n",
              "\n",
              "    .dataframe thead th {\n",
              "        text-align: right;\n",
              "    }\n",
              "</style>\n",
              "<table border=\"1\" class=\"dataframe\">\n",
              "  <thead>\n",
              "    <tr style=\"text-align: right;\">\n",
              "      <th></th>\n",
              "      <th>Strain</th>\n",
              "      <th>Type</th>\n",
              "      <th>Rating</th>\n",
              "      <th>Effects</th>\n",
              "      <th>Flavor</th>\n",
              "      <th>Description</th>\n",
              "      <th>hybrid_type</th>\n",
              "      <th>sativa_type</th>\n",
              "      <th>indica_type</th>\n",
              "      <th>Ammonia_flavor</th>\n",
              "      <th>Apple_flavor</th>\n",
              "      <th>Apricot_flavor</th>\n",
              "      <th>Berry_flavor</th>\n",
              "      <th>Blue_flavor</th>\n",
              "      <th>Blueberry_flavor</th>\n",
              "      <th>Citrus_flavor</th>\n",
              "      <th>Cheese_flavor</th>\n",
              "      <th>Chemical_flavor</th>\n",
              "      <th>Chestnut_flavor</th>\n",
              "      <th>Diesel_flavor</th>\n",
              "      <th>Earthy_flavor</th>\n",
              "      <th>Flowery_flavor</th>\n",
              "      <th>Fruit_flavor</th>\n",
              "      <th>Grape_flavor</th>\n",
              "      <th>Grapefruit_flavor</th>\n",
              "      <th>Honey_flavor</th>\n",
              "      <th>Lavender_flavor</th>\n",
              "      <th>Lemon_flavor</th>\n",
              "      <th>Mango_flavor</th>\n",
              "      <th>Menthol_flavor</th>\n",
              "      <th>Mint_flavor</th>\n",
              "      <th>Minty_flavor</th>\n",
              "      <th>Nutty_flavor</th>\n",
              "      <th>Orange_flavor</th>\n",
              "      <th>Peach_flavor</th>\n",
              "      <th>Pepper_flavor</th>\n",
              "      <th>Pine_flavor</th>\n",
              "      <th>Pineapple_flavor</th>\n",
              "      <th>Pungent_flavor</th>\n",
              "      <th>Sage_flavor</th>\n",
              "      <th>Skunk_flavor</th>\n",
              "      <th>SpicyHerbal_flavor</th>\n",
              "      <th>Strawberry</th>\n",
              "      <th>Sweet_flavor</th>\n",
              "      <th>Tea_flavor</th>\n",
              "      <th>Tobacco_flavor</th>\n",
              "      <th>Tree_flavor</th>\n",
              "      <th>Tropical_flavor</th>\n",
              "      <th>Vanilla_flavor</th>\n",
              "      <th>Violet_flavor</th>\n",
              "      <th>Woody_flavor</th>\n",
              "      <th>Aroused_effect</th>\n",
              "      <th>Creative_effect</th>\n",
              "      <th>Energetic_effect</th>\n",
              "      <th>Euphoric_effect</th>\n",
              "      <th>Focused_effect</th>\n",
              "      <th>Giggly_effect</th>\n",
              "      <th>Happy_effect</th>\n",
              "      <th>Hungry_effect</th>\n",
              "      <th>Relaxed_effect</th>\n",
              "      <th>Sleepy_effect</th>\n",
              "      <th>Talkative_effect</th>\n",
              "      <th>Tingly_effect</th>\n",
              "      <th>Uplifted_effect</th>\n",
              "      <th>None_effect</th>\n",
              "    </tr>\n",
              "  </thead>\n",
              "  <tbody>\n",
              "    <tr>\n",
              "      <th>0</th>\n",
              "      <td>100-Og</td>\n",
              "      <td>hybrid</td>\n",
              "      <td>4.0</td>\n",
              "      <td>Creative, Energetic, Tingly, Euphoric, Relaxed</td>\n",
              "      <td>Earthy, Sweet, Citrus</td>\n",
              "      <td>$100 OG is a 50/50 hybrid strain that packs a ...</td>\n",
              "      <td>1.0</td>\n",
              "      <td>0.0</td>\n",
              "      <td>0.0</td>\n",
              "      <td>0.0</td>\n",
              "      <td>0.0</td>\n",
              "      <td>0.0</td>\n",
              "      <td>0.0</td>\n",
              "      <td>0.0</td>\n",
              "      <td>0.0</td>\n",
              "      <td>1.0</td>\n",
              "      <td>0.0</td>\n",
              "      <td>0.0</td>\n",
              "      <td>0.0</td>\n",
              "      <td>0.0</td>\n",
              "      <td>1.0</td>\n",
              "      <td>0.0</td>\n",
              "      <td>0.0</td>\n",
              "      <td>0.0</td>\n",
              "      <td>0.0</td>\n",
              "      <td>0.0</td>\n",
              "      <td>0.0</td>\n",
              "      <td>0.0</td>\n",
              "      <td>0.0</td>\n",
              "      <td>0.0</td>\n",
              "      <td>0.0</td>\n",
              "      <td>0.0</td>\n",
              "      <td>0.0</td>\n",
              "      <td>0.0</td>\n",
              "      <td>0.0</td>\n",
              "      <td>0.0</td>\n",
              "      <td>0.0</td>\n",
              "      <td>0.0</td>\n",
              "      <td>0.0</td>\n",
              "      <td>0.0</td>\n",
              "      <td>0.0</td>\n",
              "      <td>0.0</td>\n",
              "      <td>0.0</td>\n",
              "      <td>1.0</td>\n",
              "      <td>0.0</td>\n",
              "      <td>0.0</td>\n",
              "      <td>0.0</td>\n",
              "      <td>0.0</td>\n",
              "      <td>0.0</td>\n",
              "      <td>0.0</td>\n",
              "      <td>0.0</td>\n",
              "      <td>0.0</td>\n",
              "      <td>1.0</td>\n",
              "      <td>1.0</td>\n",
              "      <td>1.0</td>\n",
              "      <td>0.0</td>\n",
              "      <td>0.0</td>\n",
              "      <td>0.0</td>\n",
              "      <td>0.0</td>\n",
              "      <td>1.0</td>\n",
              "      <td>0.0</td>\n",
              "      <td>0.0</td>\n",
              "      <td>1.0</td>\n",
              "      <td>0.0</td>\n",
              "      <td>0.0</td>\n",
              "    </tr>\n",
              "    <tr>\n",
              "      <th>1</th>\n",
              "      <td>98-White-Widow</td>\n",
              "      <td>hybrid</td>\n",
              "      <td>4.7</td>\n",
              "      <td>Relaxed, Aroused, Creative, Happy, Energetic</td>\n",
              "      <td>Flowery, Violet, Diesel</td>\n",
              "      <td>The ‘98 Aloha White Widow is an especially pot...</td>\n",
              "      <td>1.0</td>\n",
              "      <td>0.0</td>\n",
              "      <td>0.0</td>\n",
              "      <td>0.0</td>\n",
              "      <td>0.0</td>\n",
              "      <td>0.0</td>\n",
              "      <td>0.0</td>\n",
              "      <td>0.0</td>\n",
              "      <td>0.0</td>\n",
              "      <td>0.0</td>\n",
              "      <td>0.0</td>\n",
              "      <td>0.0</td>\n",
              "      <td>0.0</td>\n",
              "      <td>1.0</td>\n",
              "      <td>0.0</td>\n",
              "      <td>1.0</td>\n",
              "      <td>0.0</td>\n",
              "      <td>0.0</td>\n",
              "      <td>0.0</td>\n",
              "      <td>0.0</td>\n",
              "      <td>0.0</td>\n",
              "      <td>0.0</td>\n",
              "      <td>0.0</td>\n",
              "      <td>0.0</td>\n",
              "      <td>0.0</td>\n",
              "      <td>0.0</td>\n",
              "      <td>0.0</td>\n",
              "      <td>0.0</td>\n",
              "      <td>0.0</td>\n",
              "      <td>0.0</td>\n",
              "      <td>0.0</td>\n",
              "      <td>0.0</td>\n",
              "      <td>0.0</td>\n",
              "      <td>0.0</td>\n",
              "      <td>0.0</td>\n",
              "      <td>0.0</td>\n",
              "      <td>0.0</td>\n",
              "      <td>0.0</td>\n",
              "      <td>0.0</td>\n",
              "      <td>0.0</td>\n",
              "      <td>0.0</td>\n",
              "      <td>0.0</td>\n",
              "      <td>0.0</td>\n",
              "      <td>1.0</td>\n",
              "      <td>0.0</td>\n",
              "      <td>1.0</td>\n",
              "      <td>1.0</td>\n",
              "      <td>1.0</td>\n",
              "      <td>0.0</td>\n",
              "      <td>0.0</td>\n",
              "      <td>0.0</td>\n",
              "      <td>1.0</td>\n",
              "      <td>0.0</td>\n",
              "      <td>1.0</td>\n",
              "      <td>0.0</td>\n",
              "      <td>0.0</td>\n",
              "      <td>0.0</td>\n",
              "      <td>0.0</td>\n",
              "      <td>0.0</td>\n",
              "    </tr>\n",
              "    <tr>\n",
              "      <th>2</th>\n",
              "      <td>1024</td>\n",
              "      <td>sativa</td>\n",
              "      <td>4.4</td>\n",
              "      <td>Uplifted, Happy, Relaxed, Energetic, Creative</td>\n",
              "      <td>Spicy/Herbal, Sage, Woody</td>\n",
              "      <td>1024 is a sativa-dominant hybrid bred in Spain...</td>\n",
              "      <td>0.0</td>\n",
              "      <td>1.0</td>\n",
              "      <td>0.0</td>\n",
              "      <td>0.0</td>\n",
              "      <td>0.0</td>\n",
              "      <td>0.0</td>\n",
              "      <td>0.0</td>\n",
              "      <td>0.0</td>\n",
              "      <td>0.0</td>\n",
              "      <td>0.0</td>\n",
              "      <td>0.0</td>\n",
              "      <td>0.0</td>\n",
              "      <td>0.0</td>\n",
              "      <td>0.0</td>\n",
              "      <td>0.0</td>\n",
              "      <td>0.0</td>\n",
              "      <td>0.0</td>\n",
              "      <td>0.0</td>\n",
              "      <td>0.0</td>\n",
              "      <td>0.0</td>\n",
              "      <td>0.0</td>\n",
              "      <td>0.0</td>\n",
              "      <td>0.0</td>\n",
              "      <td>0.0</td>\n",
              "      <td>0.0</td>\n",
              "      <td>0.0</td>\n",
              "      <td>0.0</td>\n",
              "      <td>0.0</td>\n",
              "      <td>0.0</td>\n",
              "      <td>0.0</td>\n",
              "      <td>0.0</td>\n",
              "      <td>0.0</td>\n",
              "      <td>0.0</td>\n",
              "      <td>1.0</td>\n",
              "      <td>0.0</td>\n",
              "      <td>1.0</td>\n",
              "      <td>0.0</td>\n",
              "      <td>0.0</td>\n",
              "      <td>0.0</td>\n",
              "      <td>0.0</td>\n",
              "      <td>0.0</td>\n",
              "      <td>0.0</td>\n",
              "      <td>0.0</td>\n",
              "      <td>0.0</td>\n",
              "      <td>1.0</td>\n",
              "      <td>0.0</td>\n",
              "      <td>1.0</td>\n",
              "      <td>1.0</td>\n",
              "      <td>0.0</td>\n",
              "      <td>0.0</td>\n",
              "      <td>0.0</td>\n",
              "      <td>1.0</td>\n",
              "      <td>0.0</td>\n",
              "      <td>1.0</td>\n",
              "      <td>0.0</td>\n",
              "      <td>0.0</td>\n",
              "      <td>0.0</td>\n",
              "      <td>1.0</td>\n",
              "      <td>0.0</td>\n",
              "    </tr>\n",
              "  </tbody>\n",
              "</table>\n",
              "</div>"
            ],
            "text/plain": [
              "           Strain    Type  Rating                                         Effects                     Flavor                                        Description  hybrid_type  sativa_type  indica_type  Ammonia_flavor  Apple_flavor  Apricot_flavor  Berry_flavor  Blue_flavor  Blueberry_flavor  Citrus_flavor  Cheese_flavor  Chemical_flavor  Chestnut_flavor  Diesel_flavor  Earthy_flavor  Flowery_flavor  Fruit_flavor  Grape_flavor  Grapefruit_flavor  Honey_flavor  Lavender_flavor  Lemon_flavor  Mango_flavor  Menthol_flavor  Mint_flavor  Minty_flavor  Nutty_flavor  Orange_flavor  Peach_flavor  Pepper_flavor  Pine_flavor  Pineapple_flavor  Pungent_flavor  Sage_flavor  Skunk_flavor  SpicyHerbal_flavor  Strawberry  Sweet_flavor  Tea_flavor  Tobacco_flavor  Tree_flavor  Tropical_flavor  Vanilla_flavor  Violet_flavor  Woody_flavor  Aroused_effect  Creative_effect  Energetic_effect  Euphoric_effect  Focused_effect  Giggly_effect  Happy_effect  Hungry_effect  Relaxed_effect  Sleepy_effect  \\\n",
              "0          100-Og  hybrid     4.0  Creative, Energetic, Tingly, Euphoric, Relaxed      Earthy, Sweet, Citrus  $100 OG is a 50/50 hybrid strain that packs a ...          1.0          0.0          0.0             0.0           0.0             0.0           0.0          0.0               0.0            1.0            0.0              0.0              0.0            0.0            1.0             0.0           0.0           0.0                0.0           0.0              0.0           0.0           0.0             0.0          0.0           0.0           0.0            0.0           0.0            0.0          0.0               0.0             0.0          0.0           0.0                 0.0         0.0           1.0         0.0             0.0          0.0              0.0             0.0            0.0           0.0             0.0              1.0               1.0              1.0             0.0            0.0           0.0            0.0             1.0            0.0   \n",
              "1  98-White-Widow  hybrid     4.7    Relaxed, Aroused, Creative, Happy, Energetic    Flowery, Violet, Diesel  The ‘98 Aloha White Widow is an especially pot...          1.0          0.0          0.0             0.0           0.0             0.0           0.0          0.0               0.0            0.0            0.0              0.0              0.0            1.0            0.0             1.0           0.0           0.0                0.0           0.0              0.0           0.0           0.0             0.0          0.0           0.0           0.0            0.0           0.0            0.0          0.0               0.0             0.0          0.0           0.0                 0.0         0.0           0.0         0.0             0.0          0.0              0.0             0.0            1.0           0.0             1.0              1.0               1.0              0.0             0.0            0.0           1.0            0.0             1.0            0.0   \n",
              "2            1024  sativa     4.4   Uplifted, Happy, Relaxed, Energetic, Creative  Spicy/Herbal, Sage, Woody  1024 is a sativa-dominant hybrid bred in Spain...          0.0          1.0          0.0             0.0           0.0             0.0           0.0          0.0               0.0            0.0            0.0              0.0              0.0            0.0            0.0             0.0           0.0           0.0                0.0           0.0              0.0           0.0           0.0             0.0          0.0           0.0           0.0            0.0           0.0            0.0          0.0               0.0             0.0          1.0           0.0                 1.0         0.0           0.0         0.0             0.0          0.0              0.0             0.0            0.0           1.0             0.0              1.0               1.0              0.0             0.0            0.0           1.0            0.0             1.0            0.0   \n",
              "\n",
              "   Talkative_effect  Tingly_effect  Uplifted_effect  None_effect  \n",
              "0               0.0            1.0              0.0          0.0  \n",
              "1               0.0            0.0              0.0          0.0  \n",
              "2               0.0            0.0              1.0          0.0  "
            ]
          },
          "metadata": {
            "tags": []
          },
          "execution_count": 74
        }
      ]
    },
    {
      "cell_type": "code",
      "metadata": {
        "id": "dPRsrqHbd6_W",
        "colab_type": "code",
        "colab": {}
      },
      "source": [
        "text['Flavor_plus'] = ', ' + text['Flavor'].astype(str)\n",
        "text['Description_plus'] = ', ' + text['Description'].astype(str)\n",
        "text['Strain_plus'] = ', ' + text['Strain'].astype(str)\n",
        "\n",
        "text['text_all'] = text['Effects'].map(str) + text['Flavor_plus']\n",
        "text['text_all'] = text['text_all'].map(str) + text['Description_plus']\n",
        "text['text_all'] = text['text_all'].map(str) + text['Strain_plus']\n",
        "\n",
        "df['text_all'] = text['text_all'].map(str) + text['Description_plus']"
      ],
      "execution_count": 0,
      "outputs": []
    },
    {
      "cell_type": "code",
      "metadata": {
        "id": "vF-YwQByeXu0",
        "colab_type": "code",
        "colab": {}
      },
      "source": [
        "text['Effects_and_Flavor'] = text['Effects'].map(str) + text['Flavor_plus']"
      ],
      "execution_count": 0,
      "outputs": []
    },
    {
      "cell_type": "code",
      "metadata": {
        "id": "6WWdwUsFeuAa",
        "colab_type": "code",
        "colab": {}
      },
      "source": [
        "df['Effects_and_Flavor'] = text['Effects'].map(str) + text['Flavor_plus']"
      ],
      "execution_count": 0,
      "outputs": []
    },
    {
      "cell_type": "code",
      "metadata": {
        "id": "KJzjtNzdevYW",
        "colab_type": "code",
        "colab": {
          "base_uri": "https://localhost:8080/",
          "height": 210
        },
        "outputId": "b81f896a-367d-442b-a5c7-262968fe6753"
      },
      "source": [
        "text.head(3)"
      ],
      "execution_count": 78,
      "outputs": [
        {
          "output_type": "execute_result",
          "data": {
            "text/html": [
              "<div>\n",
              "<style scoped>\n",
              "    .dataframe tbody tr th:only-of-type {\n",
              "        vertical-align: middle;\n",
              "    }\n",
              "\n",
              "    .dataframe tbody tr th {\n",
              "        vertical-align: top;\n",
              "    }\n",
              "\n",
              "    .dataframe thead th {\n",
              "        text-align: right;\n",
              "    }\n",
              "</style>\n",
              "<table border=\"1\" class=\"dataframe\">\n",
              "  <thead>\n",
              "    <tr style=\"text-align: right;\">\n",
              "      <th></th>\n",
              "      <th>Strain</th>\n",
              "      <th>Type</th>\n",
              "      <th>Rating</th>\n",
              "      <th>Effects</th>\n",
              "      <th>Flavor</th>\n",
              "      <th>Description</th>\n",
              "      <th>Flavor_plus</th>\n",
              "      <th>Description_plus</th>\n",
              "      <th>Strain_plus</th>\n",
              "      <th>text_all</th>\n",
              "      <th>Effects_and_Flavor</th>\n",
              "    </tr>\n",
              "  </thead>\n",
              "  <tbody>\n",
              "    <tr>\n",
              "      <th>0</th>\n",
              "      <td>100-Og</td>\n",
              "      <td>hybrid</td>\n",
              "      <td>4.0</td>\n",
              "      <td>Creative, Energetic, Tingly, Euphoric, Relaxed</td>\n",
              "      <td>Earthy, Sweet, Citrus</td>\n",
              "      <td>$100 OG is a 50/50 hybrid strain that packs a ...</td>\n",
              "      <td>, Earthy, Sweet, Citrus</td>\n",
              "      <td>, $100 OG is a 50/50 hybrid strain that packs ...</td>\n",
              "      <td>, 100-Og</td>\n",
              "      <td>Creative, Energetic, Tingly, Euphoric, Relaxed...</td>\n",
              "      <td>Creative, Energetic, Tingly, Euphoric, Relaxed...</td>\n",
              "    </tr>\n",
              "    <tr>\n",
              "      <th>1</th>\n",
              "      <td>98-White-Widow</td>\n",
              "      <td>hybrid</td>\n",
              "      <td>4.7</td>\n",
              "      <td>Relaxed, Aroused, Creative, Happy, Energetic</td>\n",
              "      <td>Flowery, Violet, Diesel</td>\n",
              "      <td>The ‘98 Aloha White Widow is an especially pot...</td>\n",
              "      <td>, Flowery, Violet, Diesel</td>\n",
              "      <td>, The ‘98 Aloha White Widow is an especially p...</td>\n",
              "      <td>, 98-White-Widow</td>\n",
              "      <td>Relaxed, Aroused, Creative, Happy, Energetic, ...</td>\n",
              "      <td>Relaxed, Aroused, Creative, Happy, Energetic, ...</td>\n",
              "    </tr>\n",
              "    <tr>\n",
              "      <th>2</th>\n",
              "      <td>1024</td>\n",
              "      <td>sativa</td>\n",
              "      <td>4.4</td>\n",
              "      <td>Uplifted, Happy, Relaxed, Energetic, Creative</td>\n",
              "      <td>Spicy/Herbal, Sage, Woody</td>\n",
              "      <td>1024 is a sativa-dominant hybrid bred in Spain...</td>\n",
              "      <td>, Spicy/Herbal, Sage, Woody</td>\n",
              "      <td>, 1024 is a sativa-dominant hybrid bred in Spa...</td>\n",
              "      <td>, 1024</td>\n",
              "      <td>Uplifted, Happy, Relaxed, Energetic, Creative,...</td>\n",
              "      <td>Uplifted, Happy, Relaxed, Energetic, Creative,...</td>\n",
              "    </tr>\n",
              "  </tbody>\n",
              "</table>\n",
              "</div>"
            ],
            "text/plain": [
              "           Strain    Type  Rating                                         Effects                     Flavor                                        Description                  Flavor_plus                                   Description_plus       Strain_plus                                           text_all                                 Effects_and_Flavor\n",
              "0          100-Og  hybrid     4.0  Creative, Energetic, Tingly, Euphoric, Relaxed      Earthy, Sweet, Citrus  $100 OG is a 50/50 hybrid strain that packs a ...      , Earthy, Sweet, Citrus  , $100 OG is a 50/50 hybrid strain that packs ...          , 100-Og  Creative, Energetic, Tingly, Euphoric, Relaxed...  Creative, Energetic, Tingly, Euphoric, Relaxed...\n",
              "1  98-White-Widow  hybrid     4.7    Relaxed, Aroused, Creative, Happy, Energetic    Flowery, Violet, Diesel  The ‘98 Aloha White Widow is an especially pot...    , Flowery, Violet, Diesel  , The ‘98 Aloha White Widow is an especially p...  , 98-White-Widow  Relaxed, Aroused, Creative, Happy, Energetic, ...  Relaxed, Aroused, Creative, Happy, Energetic, ...\n",
              "2            1024  sativa     4.4   Uplifted, Happy, Relaxed, Energetic, Creative  Spicy/Herbal, Sage, Woody  1024 is a sativa-dominant hybrid bred in Spain...  , Spicy/Herbal, Sage, Woody  , 1024 is a sativa-dominant hybrid bred in Spa...            , 1024  Uplifted, Happy, Relaxed, Energetic, Creative,...  Uplifted, Happy, Relaxed, Energetic, Creative,..."
            ]
          },
          "metadata": {
            "tags": []
          },
          "execution_count": 78
        }
      ]
    },
    {
      "cell_type": "code",
      "metadata": {
        "id": "C6iHT1g6e0Mk",
        "colab_type": "code",
        "colab": {}
      },
      "source": [
        "df = df.reset_index()\n",
        "df_float = df_float.reset_index()\n",
        "\n",
        "df_float['ID'] = df_float['Strain'].index\n",
        "df_float['ID'] = df_float['ID'].astype(int)"
      ],
      "execution_count": 0,
      "outputs": []
    },
    {
      "cell_type": "code",
      "metadata": {
        "id": "FT_KrNi8pvIr",
        "colab_type": "code",
        "colab": {
          "base_uri": "https://localhost:8080/",
          "height": 34
        },
        "outputId": "f7242ac7-41b2-4351-85ad-d23336d7baa9"
      },
      "source": [
        "df_float['ID'].isna().sum()"
      ],
      "execution_count": 80,
      "outputs": [
        {
          "output_type": "execute_result",
          "data": {
            "text/plain": [
              "0"
            ]
          },
          "metadata": {
            "tags": []
          },
          "execution_count": 80
        }
      ]
    },
    {
      "cell_type": "code",
      "metadata": {
        "id": "wTH69aFYpwQM",
        "colab_type": "code",
        "colab": {}
      },
      "source": [
        "np.random.seed(42)"
      ],
      "execution_count": 0,
      "outputs": []
    },
    {
      "cell_type": "code",
      "metadata": {
        "id": "mdngkAUMp4cv",
        "colab_type": "code",
        "colab": {}
      },
      "source": [
        "# wrangle & family of variables\n",
        "\n",
        "target = 'index'\n",
        "features = ['hybrid_type',\t\n",
        "            'sativa_type',\t\n",
        "            'indica_type',\n",
        "            'Ammonia_flavor',\n",
        "            'Apple_flavor',\n",
        "            'Apricot_flavor',\n",
        "            'Berry_flavor',\n",
        "            'Blue_flavor',\n",
        "            'Blueberry_flavor',\n",
        "            'Citrus_flavor',\n",
        "            'Cheese_flavor',\n",
        "            'Chemical_flavor',\n",
        "            'Chestnut_flavor',\n",
        "            'Diesel_flavor',\n",
        "            'Earthy_flavor',\n",
        "            'Flowery_flavor',\n",
        "            'Fruit_flavor',\n",
        "            'Grape_flavor',\n",
        "            'Grapefruit_flavor',\n",
        "            'Honey_flavor',\n",
        "            'Lavender_flavor',\n",
        "            'Lemon_flavor',\n",
        "            'Mango_flavor',\n",
        "            'Menthol_flavor',\n",
        "            'Mint_flavor',\n",
        "            'Minty_flavor',\n",
        "            'Nutty_flavor',\n",
        "            'Orange_flavor',\n",
        "            'Peach_flavor',\n",
        "            'Pepper_flavor',\n",
        "            'Pine_flavor',\n",
        "            'Pineapple_flavor',\n",
        "            'Pungent_flavor',\n",
        "            'Sage_flavor',\n",
        "            'Skunk_flavor',\n",
        "            'SpicyHerbal_flavor',\n",
        "            'Strawberry',\n",
        "            'Sweet_flavor',\n",
        "            'Tea_flavor',\n",
        "            'Tobacco_flavor',\n",
        "            'Tree_flavor',\n",
        "            'Tropical_flavor',\t\n",
        "            'Vanilla_flavor',\n",
        "            'Violet_flavor',\n",
        "            'Woody_flavor',\n",
        "            'Aroused_effect',\n",
        "            'Creative_effect',\n",
        "            'Energetic_effect',\n",
        "            'Euphoric_effect',\n",
        "            'Focused_effect',\n",
        "            'Giggly_effect',\n",
        "            'Happy_effect',\n",
        "            'Hungry_effect',\n",
        "            'Relaxed_effect',\n",
        "            'Sleepy_effect',\n",
        "            'Talkative_effect',\n",
        "            'Tingly_effect',\n",
        "            'Uplifted_effect',\n",
        "            'None_effect'\n",
        "            ]\n",
        "X_train = df_float[features]\n",
        "y_train = df_float[target]\n",
        "X_val = df_float[features]\n",
        "y_val = df_float[target]"
      ],
      "execution_count": 0,
      "outputs": []
    },
    {
      "cell_type": "code",
      "metadata": {
        "id": "cfRVb-zBp8SD",
        "colab_type": "code",
        "colab": {}
      },
      "source": [
        ""
      ],
      "execution_count": 0,
      "outputs": []
    },
    {
      "cell_type": "code",
      "metadata": {
        "id": "04I0LNnVp_pM",
        "colab_type": "code",
        "colab": {}
      },
      "source": [
        ""
      ],
      "execution_count": 0,
      "outputs": []
    },
    {
      "cell_type": "code",
      "metadata": {
        "id": "Tb4q-MZRqOzr",
        "colab_type": "code",
        "colab": {}
      },
      "source": [
        "# possible analysis functions\n",
        "\n",
        "def count(docs):\n",
        "\n",
        "        word_counts = Counter()\n",
        "        appears_in = Counter()\n",
        "        \n",
        "        total_docs = len(docs)\n",
        "\n",
        "        for doc in docs:\n",
        "            word_counts.update(doc)\n",
        "            appears_in.update(set(doc))\n",
        "\n",
        "        temp = zip(word_counts.keys(), word_counts.values())\n",
        "        \n",
        "        wc = pd.DataFrame(temp, columns = ['word', 'count'])\n",
        "\n",
        "        wc['rank'] = wc['count'].rank(method='first', ascending=False)\n",
        "        total = wc['count'].sum()\n",
        "\n",
        "        wc['pct_total'] = wc['count'].apply(lambda x: x / total)\n",
        "        \n",
        "        wc = wc.sort_values(by='rank')\n",
        "        wc['cul_pct_total'] = wc['pct_total'].cumsum()\n",
        "\n",
        "        t2 = zip(appears_in.keys(), appears_in.values())\n",
        "        ac = pd.DataFrame(t2, columns=['word', 'appears_in'])\n",
        "        wc = ac.merge(wc, on='word')\n",
        "\n",
        "        wc['appears_in_pct'] = wc['appears_in'].apply(lambda x: x / total_docs)\n",
        "        \n",
        "        return wc.sort_values(by='rank')"
      ],
      "execution_count": 0,
      "outputs": []
    },
    {
      "cell_type": "code",
      "metadata": {
        "id": "jB4LiIgyqPy6",
        "colab_type": "code",
        "colab": {}
      },
      "source": [
        ""
      ],
      "execution_count": 0,
      "outputs": []
    },
    {
      "cell_type": "code",
      "metadata": {
        "id": "ZP0q9yBiqTYW",
        "colab_type": "code",
        "colab": {}
      },
      "source": [
        "nlp = spacy.load(\"en_core_web_sm\")\n",
        "\n",
        "# Tokenizer\n",
        "tokenizer = Tokenizer(nlp.vocab)"
      ],
      "execution_count": 0,
      "outputs": []
    },
    {
      "cell_type": "code",
      "metadata": {
        "id": "EAqLsEUlqZgE",
        "colab_type": "code",
        "colab": {}
      },
      "source": [
        "# Version 1\n",
        "\n",
        "# Tokenizer Pipe\n",
        "\n",
        "tokens = []\n",
        "\n",
        "\"\"\" Make them tokens \"\"\"\n",
        "for doc in tokenizer.pipe(df['text_all'], batch_size=100):\n",
        "    doc_tokens = [token.text for token in doc]\n",
        "    tokens.append(doc_tokens)\n",
        "\n",
        "df['tokens'] = tokens"
      ],
      "execution_count": 0,
      "outputs": []
    },
    {
      "cell_type": "code",
      "metadata": {
        "id": "moJbrQhiqkbf",
        "colab_type": "code",
        "colab": {
          "base_uri": "https://localhost:8080/",
          "height": 204
        },
        "outputId": "a0c752a9-9723-4adb-e1cc-16605b5d3189"
      },
      "source": [
        "wc = count(df['tokens'])\n",
        "wc.head()"
      ],
      "execution_count": 86,
      "outputs": [
        {
          "output_type": "execute_result",
          "data": {
            "text/html": [
              "<div>\n",
              "<style scoped>\n",
              "    .dataframe tbody tr th:only-of-type {\n",
              "        vertical-align: middle;\n",
              "    }\n",
              "\n",
              "    .dataframe tbody tr th {\n",
              "        vertical-align: top;\n",
              "    }\n",
              "\n",
              "    .dataframe thead th {\n",
              "        text-align: right;\n",
              "    }\n",
              "</style>\n",
              "<table border=\"1\" class=\"dataframe\">\n",
              "  <thead>\n",
              "    <tr style=\"text-align: right;\">\n",
              "      <th></th>\n",
              "      <th>word</th>\n",
              "      <th>appears_in</th>\n",
              "      <th>count</th>\n",
              "      <th>rank</th>\n",
              "      <th>pct_total</th>\n",
              "      <th>cul_pct_total</th>\n",
              "      <th>appears_in_pct</th>\n",
              "    </tr>\n",
              "  </thead>\n",
              "  <tbody>\n",
              "    <tr>\n",
              "      <th>56</th>\n",
              "      <td></td>\n",
              "      <td>2177</td>\n",
              "      <td>17894</td>\n",
              "      <td>1.0</td>\n",
              "      <td>0.046203</td>\n",
              "      <td>0.046203</td>\n",
              "      <td>0.925989</td>\n",
              "    </tr>\n",
              "    <tr>\n",
              "      <th>25</th>\n",
              "      <td>and</td>\n",
              "      <td>2232</td>\n",
              "      <td>14656</td>\n",
              "      <td>2.0</td>\n",
              "      <td>0.037842</td>\n",
              "      <td>0.084046</td>\n",
              "      <td>0.949383</td>\n",
              "    </tr>\n",
              "    <tr>\n",
              "      <th>12</th>\n",
              "      <td>a</td>\n",
              "      <td>2188</td>\n",
              "      <td>12242</td>\n",
              "      <td>3.0</td>\n",
              "      <td>0.031609</td>\n",
              "      <td>0.115655</td>\n",
              "      <td>0.930668</td>\n",
              "    </tr>\n",
              "    <tr>\n",
              "      <th>60</th>\n",
              "      <td>the</td>\n",
              "      <td>1898</td>\n",
              "      <td>9644</td>\n",
              "      <td>4.0</td>\n",
              "      <td>0.024901</td>\n",
              "      <td>0.140556</td>\n",
              "      <td>0.807316</td>\n",
              "    </tr>\n",
              "    <tr>\n",
              "      <th>24</th>\n",
              "      <td>of</td>\n",
              "      <td>1968</td>\n",
              "      <td>9136</td>\n",
              "      <td>5.0</td>\n",
              "      <td>0.023590</td>\n",
              "      <td>0.164146</td>\n",
              "      <td>0.837091</td>\n",
              "    </tr>\n",
              "  </tbody>\n",
              "</table>\n",
              "</div>"
            ],
            "text/plain": [
              "   word  appears_in  count  rank  pct_total  cul_pct_total  appears_in_pct\n",
              "56             2177  17894   1.0   0.046203       0.046203        0.925989\n",
              "25  and        2232  14656   2.0   0.037842       0.084046        0.949383\n",
              "12    a        2188  12242   3.0   0.031609       0.115655        0.930668\n",
              "60  the        1898   9644   4.0   0.024901       0.140556        0.807316\n",
              "24   of        1968   9136   5.0   0.023590       0.164146        0.837091"
            ]
          },
          "metadata": {
            "tags": []
          },
          "execution_count": 86
        }
      ]
    },
    {
      "cell_type": "code",
      "metadata": {
        "id": "oFkV3NCaqnWN",
        "colab_type": "code",
        "colab": {
          "base_uri": "https://localhost:8080/",
          "height": 248
        },
        "outputId": "6adf3e67-3c83-459b-cda7-39728db8dce1"
      },
      "source": [
        "\n",
        "\n",
        "wc_top20 = wc[wc['rank'] <= 30]\n",
        "\n",
        "squarify.plot(sizes=wc_top20['pct_total'], label=wc_top20['word'], alpha=.8 )\n",
        "plt.axis('off')\n",
        "plt.show()"
      ],
      "execution_count": 87,
      "outputs": [
        {
          "output_type": "display_data",
          "data": {
            "image/png": "[encoded data removed]",
            "text/plain": [
              "<Figure size 432x288 with 1 Axes>"
            ]
          },
          "metadata": {
            "tags": []
          }
        }
      ]
    },
    {
      "cell_type": "code",
      "metadata": {
        "id": "2ZBuCugPrAEk",
        "colab_type": "code",
        "colab": {}
      },
      "source": [
        "# Version 2\n",
        "\n",
        "tokens = []\n",
        "\n",
        "\"\"\" Update those tokens w/o stopwords\"\"\"\n",
        "for doc in tokenizer.pipe(df['text_all'], batch_size=100):\n",
        "    \n",
        "    doc_tokens = []\n",
        "    \n",
        "    for token in doc:\n",
        "        if (token.is_stop == False) & (token.is_punct == False):\n",
        "            doc_tokens.append(token.text.lower())\n",
        "\n",
        "    tokens.append(doc_tokens)\n",
        "\n",
        "df['tokens'] = tokens"
      ],
      "execution_count": 0,
      "outputs": []
    },
    {
      "cell_type": "code",
      "metadata": {
        "id": "Re4vK70QrEEw",
        "colab_type": "code",
        "colab": {
          "base_uri": "https://localhost:8080/",
          "height": 204
        },
        "outputId": "0192ff1c-8482-452b-fc7f-3d21bdefad3d"
      },
      "source": [
        "# Using the \"Count\" function\n",
        "wc = count(df['tokens'])\n",
        "wc.head()"
      ],
      "execution_count": 89,
      "outputs": [
        {
          "output_type": "execute_result",
          "data": {
            "text/html": [
              "<div>\n",
              "<style scoped>\n",
              "    .dataframe tbody tr th:only-of-type {\n",
              "        vertical-align: middle;\n",
              "    }\n",
              "\n",
              "    .dataframe tbody tr th {\n",
              "        vertical-align: top;\n",
              "    }\n",
              "\n",
              "    .dataframe thead th {\n",
              "        text-align: right;\n",
              "    }\n",
              "</style>\n",
              "<table border=\"1\" class=\"dataframe\">\n",
              "  <thead>\n",
              "    <tr style=\"text-align: right;\">\n",
              "      <th></th>\n",
              "      <th>word</th>\n",
              "      <th>appears_in</th>\n",
              "      <th>count</th>\n",
              "      <th>rank</th>\n",
              "      <th>pct_total</th>\n",
              "      <th>cul_pct_total</th>\n",
              "      <th>appears_in_pct</th>\n",
              "    </tr>\n",
              "  </thead>\n",
              "  <tbody>\n",
              "    <tr>\n",
              "      <th>38</th>\n",
              "      <td></td>\n",
              "      <td>2177</td>\n",
              "      <td>17894</td>\n",
              "      <td>1.0</td>\n",
              "      <td>0.070444</td>\n",
              "      <td>0.070444</td>\n",
              "      <td>0.925989</td>\n",
              "    </tr>\n",
              "    <tr>\n",
              "      <th>15</th>\n",
              "      <td>strain</td>\n",
              "      <td>1598</td>\n",
              "      <td>4680</td>\n",
              "      <td>2.0</td>\n",
              "      <td>0.018424</td>\n",
              "      <td>0.088868</td>\n",
              "      <td>0.679711</td>\n",
              "    </tr>\n",
              "    <tr>\n",
              "      <th>51</th>\n",
              "      <td></td>\n",
              "      <td>1154</td>\n",
              "      <td>4268</td>\n",
              "      <td>3.0</td>\n",
              "      <td>0.016802</td>\n",
              "      <td>0.105670</td>\n",
              "      <td>0.490855</td>\n",
              "    </tr>\n",
              "    <tr>\n",
              "      <th>161</th>\n",
              "      <td>effects</td>\n",
              "      <td>1036</td>\n",
              "      <td>2432</td>\n",
              "      <td>4.0</td>\n",
              "      <td>0.009574</td>\n",
              "      <td>0.115244</td>\n",
              "      <td>0.440664</td>\n",
              "    </tr>\n",
              "    <tr>\n",
              "      <th>26</th>\n",
              "      <td>hybrid</td>\n",
              "      <td>1028</td>\n",
              "      <td>2362</td>\n",
              "      <td>5.0</td>\n",
              "      <td>0.009299</td>\n",
              "      <td>0.124543</td>\n",
              "      <td>0.437261</td>\n",
              "    </tr>\n",
              "  </tbody>\n",
              "</table>\n",
              "</div>"
            ],
            "text/plain": [
              "        word  appears_in  count  rank  pct_total  cul_pct_total  appears_in_pct\n",
              "38                  2177  17894   1.0   0.070444       0.070444        0.925989\n",
              "15    strain        1598   4680   2.0   0.018424       0.088868        0.679711\n",
              "51                  1154   4268   3.0   0.016802       0.105670        0.490855\n",
              "161  effects        1036   2432   4.0   0.009574       0.115244        0.440664\n",
              "26    hybrid        1028   2362   5.0   0.009299       0.124543        0.437261"
            ]
          },
          "metadata": {
            "tags": []
          },
          "execution_count": 89
        }
      ]
    },
    {
      "cell_type": "code",
      "metadata": {
        "id": "bh2mSPJMrPpK",
        "colab_type": "code",
        "colab": {
          "base_uri": "https://localhost:8080/",
          "height": 248
        },
        "outputId": "0d32de65-f669-4585-a28b-5569e8383952"
      },
      "source": [
        "wc_top20 = wc[wc['rank'] <= 30]\n",
        "\n",
        "squarify.plot(sizes=wc_top20['pct_total'], label=wc_top20['word'], alpha=.8 )\n",
        "plt.axis('off')\n",
        "plt.show()"
      ],
      "execution_count": 90,
      "outputs": [
        {
          "output_type": "display_data",
          "data": {
            "image/png": "[encoded data removed]",
            "text/plain": [
              "<Figure size 432x288 with 1 Axes>"
            ]
          },
          "metadata": {
            "tags": []
          }
        }
      ]
    },
    {
      "cell_type": "code",
      "metadata": {
        "id": "tj_3vGGSrQoH",
        "colab_type": "code",
        "colab": {}
      },
      "source": [
        "STOP_WORDS = nlp.Defaults.stop_words.union(['strain',\n",
        "                                            'effects',\n",
        "                                            'effects,',\n",
        "                                            'buds',\n",
        "                                            'known',\n",
        "                                            'genetics',\n",
        "                                            'bred',\n",
        "                                            '',\n",
        "                                            ' ',\n",
        "                                            'like',\n",
        "                                            'notes',\n",
        "                                            'flavors',\n",
        "                                            'patients'\n",
        "                                            ])"
      ],
      "execution_count": 0,
      "outputs": []
    },
    {
      "cell_type": "code",
      "metadata": {
        "id": "KPk4B_ObrdcK",
        "colab_type": "code",
        "colab": {}
      },
      "source": [
        "# Version 3\n",
        "\n",
        "tokens = []\n",
        "\n",
        "\"\"\" tokens w/o updated stopwords\"\"\"\n",
        "for doc in tokenizer.pipe(df['text_all'], batch_size=100):\n",
        "    \n",
        "    doc_tokens = []\n",
        "    \n",
        "    for token in doc:\n",
        "        if (token.text.lower() not in STOP_WORDS) & (token.is_punct == False):\n",
        "            doc_tokens.append(token.text.lower())\n",
        "\n",
        "    tokens.append(doc_tokens)\n",
        "\n",
        "df['tokens'] = tokens"
      ],
      "execution_count": 0,
      "outputs": []
    },
    {
      "cell_type": "code",
      "metadata": {
        "id": "ek4N1LRarg0t",
        "colab_type": "code",
        "colab": {
          "base_uri": "https://localhost:8080/",
          "height": 204
        },
        "outputId": "07476c39-0866-41ed-d6d7-12ed863f67c8"
      },
      "source": [
        "wc = count(df['tokens'])\n",
        "wc.head()"
      ],
      "execution_count": 93,
      "outputs": [
        {
          "output_type": "execute_result",
          "data": {
            "text/html": [
              "<div>\n",
              "<style scoped>\n",
              "    .dataframe tbody tr th:only-of-type {\n",
              "        vertical-align: middle;\n",
              "    }\n",
              "\n",
              "    .dataframe tbody tr th {\n",
              "        vertical-align: top;\n",
              "    }\n",
              "\n",
              "    .dataframe thead th {\n",
              "        text-align: right;\n",
              "    }\n",
              "</style>\n",
              "<table border=\"1\" class=\"dataframe\">\n",
              "  <thead>\n",
              "    <tr style=\"text-align: right;\">\n",
              "      <th></th>\n",
              "      <th>word</th>\n",
              "      <th>appears_in</th>\n",
              "      <th>count</th>\n",
              "      <th>rank</th>\n",
              "      <th>pct_total</th>\n",
              "      <th>cul_pct_total</th>\n",
              "      <th>appears_in_pct</th>\n",
              "    </tr>\n",
              "  </thead>\n",
              "  <tbody>\n",
              "    <tr>\n",
              "      <th>48</th>\n",
              "      <td></td>\n",
              "      <td>1154</td>\n",
              "      <td>4268</td>\n",
              "      <td>1.0</td>\n",
              "      <td>0.019135</td>\n",
              "      <td>0.019135</td>\n",
              "      <td>0.490855</td>\n",
              "    </tr>\n",
              "    <tr>\n",
              "      <th>25</th>\n",
              "      <td>hybrid</td>\n",
              "      <td>1028</td>\n",
              "      <td>2362</td>\n",
              "      <td>2.0</td>\n",
              "      <td>0.010590</td>\n",
              "      <td>0.029725</td>\n",
              "      <td>0.437261</td>\n",
              "    </tr>\n",
              "    <tr>\n",
              "      <th>19</th>\n",
              "      <td>og</td>\n",
              "      <td>466</td>\n",
              "      <td>1944</td>\n",
              "      <td>3.0</td>\n",
              "      <td>0.008716</td>\n",
              "      <td>0.038441</td>\n",
              "      <td>0.198214</td>\n",
              "    </tr>\n",
              "    <tr>\n",
              "      <th>47</th>\n",
              "      <td>happy,</td>\n",
              "      <td>1871</td>\n",
              "      <td>1871</td>\n",
              "      <td>4.0</td>\n",
              "      <td>0.008388</td>\n",
              "      <td>0.046829</td>\n",
              "      <td>0.795832</td>\n",
              "    </tr>\n",
              "    <tr>\n",
              "      <th>194</th>\n",
              "      <td>kush</td>\n",
              "      <td>512</td>\n",
              "      <td>1756</td>\n",
              "      <td>5.0</td>\n",
              "      <td>0.007873</td>\n",
              "      <td>0.054702</td>\n",
              "      <td>0.217780</td>\n",
              "    </tr>\n",
              "  </tbody>\n",
              "</table>\n",
              "</div>"
            ],
            "text/plain": [
              "       word  appears_in  count  rank  pct_total  cul_pct_total  appears_in_pct\n",
              "48                 1154   4268   1.0   0.019135       0.019135        0.490855\n",
              "25   hybrid        1028   2362   2.0   0.010590       0.029725        0.437261\n",
              "19       og         466   1944   3.0   0.008716       0.038441        0.198214\n",
              "47   happy,        1871   1871   4.0   0.008388       0.046829        0.795832\n",
              "194    kush         512   1756   5.0   0.007873       0.054702        0.217780"
            ]
          },
          "metadata": {
            "tags": []
          },
          "execution_count": 93
        }
      ]
    },
    {
      "cell_type": "code",
      "metadata": {
        "id": "5ZVMXuimrlb9",
        "colab_type": "code",
        "colab": {
          "base_uri": "https://localhost:8080/",
          "height": 248
        },
        "outputId": "b08f2f38-9bc0-4d52-e874-c8abf6dd54ae"
      },
      "source": [
        "wc_top20 = wc[wc['rank'] <= 30]\n",
        "\n",
        "squarify.plot(sizes=wc_top20['pct_total'], label=wc_top20['word'], alpha=.8 )\n",
        "plt.axis('off')\n",
        "plt.show()"
      ],
      "execution_count": 94,
      "outputs": [
        {
          "output_type": "display_data",
          "data": {
            "image/png": "[encoded data removed]",
            "text/plain": [
              "<Figure size 432x288 with 1 Axes>"
            ]
          },
          "metadata": {
            "tags": []
          }
        }
      ]
    },
    {
      "cell_type": "code",
      "metadata": {
        "id": "ACMxoytursQJ",
        "colab_type": "code",
        "colab": {}
      },
      "source": [
        ""
      ],
      "execution_count": 0,
      "outputs": []
    },
    {
      "cell_type": "code",
      "metadata": {
        "id": "msivADyBru7i",
        "colab_type": "code",
        "colab": {}
      },
      "source": [
        "# Import\n",
        "svd = TruncatedSVD(n_components=100, \n",
        "                   algorithm='randomized', \n",
        "                   n_iter=10)"
      ],
      "execution_count": 0,
      "outputs": []
    },
    {
      "cell_type": "code",
      "metadata": {
        "id": "zQ36TwolrxqX",
        "colab_type": "code",
        "colab": {}
      },
      "source": [
        "params = { \n",
        "    'lsi__svd__n_components': [10,100,250],\n",
        "    # these are percents 90% 95% 100%\n",
        "    'lsi__vect__max_df':[.9, .95, 1.0],\n",
        "    'clf__n_estimators':(5,10,25)\n",
        "}"
      ],
      "execution_count": 0,
      "outputs": []
    },
    {
      "cell_type": "code",
      "metadata": {
        "id": "f4hdjEwfr4rO",
        "colab_type": "code",
        "colab": {}
      },
      "source": [
        "# Create Pipeline Components\n",
        "\n",
        "vect = TfidfVectorizer(stop_words='english')\n",
        "rfc = RandomForestClassifier()"
      ],
      "execution_count": 0,
      "outputs": []
    },
    {
      "cell_type": "code",
      "metadata": {
        "id": "q2hR6bCEsJja",
        "colab_type": "code",
        "colab": {}
      },
      "source": [
        "svd = TruncatedSVD(n_components=10, \n",
        "                   algorithm='randomized', \n",
        "                   n_iter=2)"
      ],
      "execution_count": 0,
      "outputs": []
    },
    {
      "cell_type": "code",
      "metadata": {
        "id": "6seBjhxdsMKz",
        "colab_type": "code",
        "colab": {}
      },
      "source": [
        "vect = TfidfVectorizer(stop_words='english')\n",
        "clf = RandomForestClassifier()"
      ],
      "execution_count": 0,
      "outputs": []
    },
    {
      "cell_type": "code",
      "metadata": {
        "id": "N8Fuifv2sQO7",
        "colab_type": "code",
        "colab": {}
      },
      "source": [
        "# LSI\n",
        "lsi = Pipeline([('vect', vect), ('svd', svd)])\n",
        "\n",
        "# Pipe\n",
        "pipe = Pipeline([('lsi', lsi), ('clf', rfc)])"
      ],
      "execution_count": 0,
      "outputs": []
    },
    {
      "cell_type": "code",
      "metadata": {
        "id": "47QN2Vgcsfun",
        "colab_type": "code",
        "colab": {
          "base_uri": "https://localhost:8080/",
          "height": 34
        },
        "outputId": "d6600b82-ecf7-4767-fc49-c84d8bf394f4"
      },
      "source": [
        "'''\n",
        "# debugging\n",
        "\n",
        "# Fit\n",
        "grid_search = GridSearchCV(pipe,params, cv=4, n_jobs=8, verbose=1)\n",
        "grid_search.fit(train['Effects'], train['Rating'])\n",
        "'''\n",
        "# debugging"
      ],
      "execution_count": 101,
      "outputs": [
        {
          "output_type": "execute_result",
          "data": {
            "text/plain": [
              "\"\\n# debugging\\n\\n# Fit\\ngrid_search = GridSearchCV(pipe,params, cv=4, n_jobs=8, verbose=1)\\ngrid_search.fit(train['Effects'], train['Rating'])\\n\""
            ]
          },
          "metadata": {
            "tags": []
          },
          "execution_count": 101
        }
      ]
    },
    {
      "cell_type": "code",
      "metadata": {
        "id": "lAhHnQR8sikH",
        "colab_type": "code",
        "colab": {}
      },
      "source": [
        ""
      ],
      "execution_count": 0,
      "outputs": []
    },
    {
      "cell_type": "code",
      "metadata": {
        "id": "26vzhlJxsjJg",
        "colab_type": "code",
        "colab": {}
      },
      "source": [
        ""
      ],
      "execution_count": 0,
      "outputs": []
    },
    {
      "cell_type": "code",
      "metadata": {
        "id": "frofKk9estrG",
        "colab_type": "code",
        "colab": {}
      },
      "source": [
        "train = df\n",
        "test = df\n",
        "val = df\n",
        "\n",
        "target = ['Strain']\n",
        "features = ['Effects']\n",
        "\n",
        "test2_features = ['text_all']\n",
        "\n",
        "# Arrange data into X features matrix and y target vector \n",
        "X_train = train[features]\n",
        "y_train = train[target]\n",
        "X_val = val[features]\n",
        "y_val = val[target]\n",
        "X_test = test[features]"
      ],
      "execution_count": 0,
      "outputs": []
    },
    {
      "cell_type": "code",
      "metadata": {
        "id": "6SL2DkVcs2pM",
        "colab_type": "code",
        "colab": {}
      },
      "source": [
        "X_test2 = test[test2_features]"
      ],
      "execution_count": 0,
      "outputs": []
    },
    {
      "cell_type": "code",
      "metadata": {
        "id": "KtIkkvRys79I",
        "colab_type": "code",
        "colab": {
          "base_uri": "https://localhost:8080/",
          "height": 289
        },
        "outputId": "eb202fd0-e756-4353-b618-8c6fee0f1a7f"
      },
      "source": [
        "pipeline = make_pipeline(\n",
        "    ce.OneHotEncoder(use_cat_names=True), \n",
        "    #SimpleImputer(strategy='mean'), \n",
        "    DecisionTreeClassifier(random_state=42)\n",
        ")\n",
        "\n",
        "# Fit on train\n",
        "pipeline.fit(X_train, y_train)"
      ],
      "execution_count": 104,
      "outputs": [
        {
          "output_type": "execute_result",
          "data": {
            "text/plain": [
              "Pipeline(memory=None,\n",
              "         steps=[('onehotencoder',\n",
              "                 OneHotEncoder(cols=['Effects'], drop_invariant=False,\n",
              "                               handle_missing='value', handle_unknown='value',\n",
              "                               return_df=True, use_cat_names=True, verbose=0)),\n",
              "                ('decisiontreeclassifier',\n",
              "                 DecisionTreeClassifier(ccp_alpha=0.0, class_weight=None,\n",
              "                                        criterion='gini', max_depth=None,\n",
              "                                        max_features=None, max_leaf_nodes=None,\n",
              "                                        min_impurity_decrease=0.0,\n",
              "                                        min_impurity_split=None,\n",
              "                                        min_samples_leaf=1, min_samples_split=2,\n",
              "                                        min_weight_fraction_leaf=0.0,\n",
              "                                        presort='deprecated', random_state=42,\n",
              "                                        splitter='best'))],\n",
              "         verbose=False)"
            ]
          },
          "metadata": {
            "tags": []
          },
          "execution_count": 104
        }
      ]
    },
    {
      "cell_type": "code",
      "metadata": {
        "id": "RkYwVqxJtC-a",
        "colab_type": "code",
        "colab": {
          "base_uri": "https://localhost:8080/",
          "height": 34
        },
        "outputId": "8f44a508-7e95-4729-f23f-0cb41a6d47c8"
      },
      "source": [
        "# Score on train, val\n",
        "print('Train Accuracy', pipeline.score(X_train, y_train))"
      ],
      "execution_count": 105,
      "outputs": [
        {
          "output_type": "stream",
          "text": [
            "Train Accuracy 0.704381114419396\n"
          ],
          "name": "stdout"
        }
      ]
    },
    {
      "cell_type": "code",
      "metadata": {
        "id": "qE_Duxr0uBgN",
        "colab_type": "code",
        "colab": {}
      },
      "source": [
        "# Create the nlp object\n",
        "\n",
        "\n",
        "nlp = English()"
      ],
      "execution_count": 0,
      "outputs": []
    },
    {
      "cell_type": "code",
      "metadata": {
        "id": "S3boRevEyQ_G",
        "colab_type": "code",
        "colab": {
          "base_uri": "https://localhost:8080/",
          "height": 54
        },
        "outputId": "2d0a6fb6-6102-4673-8091-d7014e52019a"
      },
      "source": [
        "df.loc[1, 'Description']"
      ],
      "execution_count": 107,
      "outputs": [
        {
          "output_type": "execute_result",
          "data": {
            "text/plain": [
              "'The ‘98 Aloha White Widow is an especially potent cut of White Widow that has grown in renown alongside Hawaiian legends like Maui Wowie and Kona Gold. This White Widow phenotype reeks of diesel and skunk and has a rich earthy taste with intermittent notes of hash. Its buds are coated in trichomes  giving its dark foliage a lustrous glint to go along with its room-filling odor. This one-hitter-quitter uplifts the mind with mind-bending euphoria that materializes in the body as airy relaxation. ‘98 Aloha White Widow is available from Pua Mana 1st Hawaiian Pakalōlō Seed Bank. \\xa0'"
            ]
          },
          "metadata": {
            "tags": []
          },
          "execution_count": 107
        }
      ]
    },
    {
      "cell_type": "code",
      "metadata": {
        "id": "bayCT6uTyUA7",
        "colab_type": "code",
        "colab": {}
      },
      "source": [
        "text1 = df.loc[1, 'Description'] "
      ],
      "execution_count": 0,
      "outputs": []
    },
    {
      "cell_type": "code",
      "metadata": {
        "id": "TGwJZehPyXHO",
        "colab_type": "code",
        "colab": {
          "base_uri": "https://localhost:8080/",
          "height": 1000
        },
        "outputId": "62a4ce92-83ff-4740-cb52-b064b4f40e63"
      },
      "source": [
        "# Created by processing a string of text with the nlp object\n",
        "doc = nlp(text1)\n",
        "\n",
        "# Iterate over tokens in a Doc\n",
        "for token in doc:\n",
        "    print(token.text)"
      ],
      "execution_count": 109,
      "outputs": [
        {
          "output_type": "stream",
          "text": [
            "The\n",
            "‘\n",
            "98\n",
            "Aloha\n",
            "White\n",
            "Widow\n",
            "is\n",
            "an\n",
            "especially\n",
            "potent\n",
            "cut\n",
            "of\n",
            "White\n",
            "Widow\n",
            "that\n",
            "has\n",
            "grown\n",
            "in\n",
            "renown\n",
            "alongside\n",
            "Hawaiian\n",
            "legends\n",
            "like\n",
            "Maui\n",
            "Wowie\n",
            "and\n",
            "Kona\n",
            "Gold\n",
            ".\n",
            "This\n",
            "White\n",
            "Widow\n",
            "phenotype\n",
            "reeks\n",
            "of\n",
            "diesel\n",
            "and\n",
            "skunk\n",
            "and\n",
            "has\n",
            "a\n",
            "rich\n",
            "earthy\n",
            "taste\n",
            "with\n",
            "intermittent\n",
            "notes\n",
            "of\n",
            "hash\n",
            ".\n",
            "Its\n",
            "buds\n",
            "are\n",
            "coated\n",
            "in\n",
            "trichomes\n",
            " \n",
            "giving\n",
            "its\n",
            "dark\n",
            "foliage\n",
            "a\n",
            "lustrous\n",
            "glint\n",
            "to\n",
            "go\n",
            "along\n",
            "with\n",
            "its\n",
            "room\n",
            "-\n",
            "filling\n",
            "odor\n",
            ".\n",
            "This\n",
            "one\n",
            "-\n",
            "hitter\n",
            "-\n",
            "quitter\n",
            "uplifts\n",
            "the\n",
            "mind\n",
            "with\n",
            "mind\n",
            "-\n",
            "bending\n",
            "euphoria\n",
            "that\n",
            "materializes\n",
            "in\n",
            "the\n",
            "body\n",
            "as\n",
            "airy\n",
            "relaxation\n",
            ".\n",
            "‘\n",
            "98\n",
            "Aloha\n",
            "White\n",
            "Widow\n",
            "is\n",
            "available\n",
            "from\n",
            "Pua\n",
            "Mana\n",
            "1st\n",
            "Hawaiian\n",
            "Pakalōlō\n",
            "Seed\n",
            "Bank\n",
            ".\n",
            " \n"
          ],
          "name": "stdout"
        }
      ]
    },
    {
      "cell_type": "code",
      "metadata": {
        "id": "shmkLeSQyblQ",
        "colab_type": "code",
        "colab": {
          "base_uri": "https://localhost:8080/",
          "height": 122
        },
        "outputId": "ec0c53ec-edc1-4658-c68b-e98cfcd28313"
      },
      "source": [
        "print('Index:   ', [token.i for token in doc])\n",
        "print('Text:    ', [token.text for token in doc])\n",
        "\n",
        "print('is_alpha:', [token.is_alpha for token in doc])\n",
        "print('is_punct:', [token.is_punct for token in doc])\n",
        "print('like_num:', [token.like_num for token in doc])"
      ],
      "execution_count": 110,
      "outputs": [
        {
          "output_type": "stream",
          "text": [
            "Index:    [0, 1, 2, 3, 4, 5, 6, 7, 8, 9, 10, 11, 12, 13, 14, 15, 16, 17, 18, 19, 20, 21, 22, 23, 24, 25, 26, 27, 28, 29, 30, 31, 32, 33, 34, 35, 36, 37, 38, 39, 40, 41, 42, 43, 44, 45, 46, 47, 48, 49, 50, 51, 52, 53, 54, 55, 56, 57, 58, 59, 60, 61, 62, 63, 64, 65, 66, 67, 68, 69, 70, 71, 72, 73, 74, 75, 76, 77, 78, 79, 80, 81, 82, 83, 84, 85, 86, 87, 88, 89, 90, 91, 92, 93, 94, 95, 96, 97, 98, 99, 100, 101, 102, 103, 104, 105, 106, 107, 108, 109, 110, 111, 112, 113]\n",
            "Text:     ['The', '‘', '98', 'Aloha', 'White', 'Widow', 'is', 'an', 'especially', 'potent', 'cut', 'of', 'White', 'Widow', 'that', 'has', 'grown', 'in', 'renown', 'alongside', 'Hawaiian', 'legends', 'like', 'Maui', 'Wowie', 'and', 'Kona', 'Gold', '.', 'This', 'White', 'Widow', 'phenotype', 'reeks', 'of', 'diesel', 'and', 'skunk', 'and', 'has', 'a', 'rich', 'earthy', 'taste', 'with', 'intermittent', 'notes', 'of', 'hash', '.', 'Its', 'buds', 'are', 'coated', 'in', 'trichomes', ' ', 'giving', 'its', 'dark', 'foliage', 'a', 'lustrous', 'glint', 'to', 'go', 'along', 'with', 'its', 'room', '-', 'filling', 'odor', '.', 'This', 'one', '-', 'hitter', '-', 'quitter', 'uplifts', 'the', 'mind', 'with', 'mind', '-', 'bending', 'euphoria', 'that', 'materializes', 'in', 'the', 'body', 'as', 'airy', 'relaxation', '.', '‘', '98', 'Aloha', 'White', 'Widow', 'is', 'available', 'from', 'Pua', 'Mana', '1st', 'Hawaiian', 'Pakalōlō', 'Seed', 'Bank', '.', '\\xa0']\n",
            "is_alpha: [True, False, False, True, True, True, True, True, True, True, True, True, True, True, True, True, True, True, True, True, True, True, True, True, True, True, True, True, False, True, True, True, True, True, True, True, True, True, True, True, True, True, True, True, True, True, True, True, True, False, True, True, True, True, True, True, False, True, True, True, True, True, True, True, True, True, True, True, True, True, False, True, True, False, True, True, False, True, False, True, True, True, True, True, True, False, True, True, True, True, True, True, True, True, True, True, False, False, False, True, True, True, True, True, True, True, True, False, True, True, True, True, False, False]\n",
            "is_punct: [False, True, False, False, False, False, False, False, False, False, False, False, False, False, False, False, False, False, False, False, False, False, False, False, False, False, False, False, True, False, False, False, False, False, False, False, False, False, False, False, False, False, False, False, False, False, False, False, False, True, False, False, False, False, False, False, False, False, False, False, False, False, False, False, False, False, False, False, False, False, True, False, False, True, False, False, True, False, True, False, False, False, False, False, False, True, False, False, False, False, False, False, False, False, False, False, True, True, False, False, False, False, False, False, False, False, False, False, False, False, False, False, True, False]\n",
            "like_num: [False, False, True, False, False, False, False, False, False, False, False, False, False, False, False, False, False, False, False, False, False, False, False, False, False, False, False, False, False, False, False, False, False, False, False, False, False, False, False, False, False, False, False, False, False, False, False, False, False, False, False, False, False, False, False, False, False, False, False, False, False, False, False, False, False, False, False, False, False, False, False, False, False, False, False, True, False, False, False, False, False, False, False, False, False, False, False, False, False, False, False, False, False, False, False, False, False, False, True, False, False, False, False, False, False, False, False, False, False, False, False, False, False, False]\n"
          ],
          "name": "stdout"
        }
      ]
    },
    {
      "cell_type": "code",
      "metadata": {
        "id": "m7KBcBXCyfRV",
        "colab_type": "code",
        "colab": {
          "base_uri": "https://localhost:8080/",
          "height": 1000
        },
        "outputId": "c24b7fc3-06f1-4719-fa7f-62ac34e2438c"
      },
      "source": [
        "# Load the small English model\n",
        "nlp = spacy.load('en_core_web_sm')\n",
        "\n",
        "# Process a text\n",
        "doc = nlp(text1)\n",
        "\n",
        "# Iterate over the tokens\n",
        "for token in doc:\n",
        "    # Print the text and the predicted part-of-speech tag\n",
        "    print(token.text, token.pos_)"
      ],
      "execution_count": 111,
      "outputs": [
        {
          "output_type": "stream",
          "text": [
            "The DET\n",
            "‘ ADJ\n",
            "98 NUM\n",
            "Aloha PROPN\n",
            "White PROPN\n",
            "Widow PROPN\n",
            "is VERB\n",
            "an DET\n",
            "especially ADV\n",
            "potent ADJ\n",
            "cut NOUN\n",
            "of ADP\n",
            "White PROPN\n",
            "Widow PROPN\n",
            "that DET\n",
            "has VERB\n",
            "grown VERB\n",
            "in ADP\n",
            "renown NOUN\n",
            "alongside ADP\n",
            "Hawaiian ADJ\n",
            "legends NOUN\n",
            "like ADP\n",
            "Maui PROPN\n",
            "Wowie PROPN\n",
            "and CCONJ\n",
            "Kona PROPN\n",
            "Gold PROPN\n",
            ". PUNCT\n",
            "This DET\n",
            "White PROPN\n",
            "Widow PROPN\n",
            "phenotype VERB\n",
            "reeks NOUN\n",
            "of ADP\n",
            "diesel NOUN\n",
            "and CCONJ\n",
            "skunk NOUN\n",
            "and CCONJ\n",
            "has VERB\n",
            "a DET\n",
            "rich ADJ\n",
            "earthy ADJ\n",
            "taste NOUN\n",
            "with ADP\n",
            "intermittent ADJ\n",
            "notes NOUN\n",
            "of ADP\n",
            "hash NOUN\n",
            ". PUNCT\n",
            "Its DET\n",
            "buds NOUN\n",
            "are VERB\n",
            "coated VERB\n",
            "in ADP\n",
            "trichomes NOUN\n",
            "  SPACE\n",
            "giving VERB\n",
            "its DET\n",
            "dark ADJ\n",
            "foliage NOUN\n",
            "a DET\n",
            "lustrous ADJ\n",
            "glint NOUN\n",
            "to PART\n",
            "go VERB\n",
            "along PART\n",
            "with ADP\n",
            "its DET\n",
            "room NOUN\n",
            "- PUNCT\n",
            "filling VERB\n",
            "odor NOUN\n",
            ". PUNCT\n",
            "This DET\n",
            "one NUM\n",
            "- PUNCT\n",
            "hitter NOUN\n",
            "- PUNCT\n",
            "quitter NOUN\n",
            "uplifts NOUN\n",
            "the DET\n",
            "mind NOUN\n",
            "with ADP\n",
            "mind NOUN\n",
            "- PUNCT\n",
            "bending VERB\n",
            "euphoria NOUN\n",
            "that DET\n",
            "materializes VERB\n",
            "in ADP\n",
            "the DET\n",
            "body NOUN\n",
            "as ADP\n",
            "airy NOUN\n",
            "relaxation NOUN\n",
            ". PUNCT\n",
            "‘ PUNCT\n",
            "98 NUM\n",
            "Aloha PROPN\n",
            "White PROPN\n",
            "Widow PROPN\n",
            "is VERB\n",
            "available ADJ\n",
            "from ADP\n",
            "Pua PROPN\n",
            "Mana PROPN\n",
            "1st ADJ\n",
            "Hawaiian PROPN\n",
            "Pakalōlō PROPN\n",
            "Seed PROPN\n",
            "Bank PROPN\n",
            ". PUNCT\n",
            "  SPACE\n"
          ],
          "name": "stdout"
        }
      ]
    },
    {
      "cell_type": "code",
      "metadata": {
        "id": "Hw6cJhujyjR4",
        "colab_type": "code",
        "colab": {
          "base_uri": "https://localhost:8080/",
          "height": 1000
        },
        "outputId": "82843e0d-6178-457e-9866-ed371c8213b9"
      },
      "source": [
        "for token in doc:\n",
        "    print(token.text, token.pos_, token.dep_, token.head.text)"
      ],
      "execution_count": 112,
      "outputs": [
        {
          "output_type": "stream",
          "text": [
            "The DET det Widow\n",
            "‘ ADJ punct Widow\n",
            "98 NUM nummod Widow\n",
            "Aloha PROPN compound Widow\n",
            "White PROPN compound Widow\n",
            "Widow PROPN nsubj is\n",
            "is VERB ROOT is\n",
            "an DET det cut\n",
            "especially ADV advmod potent\n",
            "potent ADJ amod cut\n",
            "cut NOUN attr is\n",
            "of ADP prep cut\n",
            "White PROPN compound Widow\n",
            "Widow PROPN pobj of\n",
            "that DET nsubj grown\n",
            "has VERB aux grown\n",
            "grown VERB relcl cut\n",
            "in ADP prep grown\n",
            "renown NOUN pobj in\n",
            "alongside ADP prep grown\n",
            "Hawaiian ADJ amod legends\n",
            "legends NOUN pobj alongside\n",
            "like ADP prep legends\n",
            "Maui PROPN compound Wowie\n",
            "Wowie PROPN pobj like\n",
            "and CCONJ cc Wowie\n",
            "Kona PROPN compound Gold\n",
            "Gold PROPN conj Wowie\n",
            ". PUNCT punct is\n",
            "This DET det phenotype\n",
            "White PROPN compound Widow\n",
            "Widow PROPN compound phenotype\n",
            "phenotype VERB compound reeks\n",
            "reeks NOUN ROOT reeks\n",
            "of ADP prep reeks\n",
            "diesel NOUN pobj of\n",
            "and CCONJ cc diesel\n",
            "skunk NOUN conj diesel\n",
            "and CCONJ cc reeks\n",
            "has VERB conj reeks\n",
            "a DET det taste\n",
            "rich ADJ amod taste\n",
            "earthy ADJ amod taste\n",
            "taste NOUN dobj has\n",
            "with ADP prep taste\n",
            "intermittent ADJ amod notes\n",
            "notes NOUN pobj with\n",
            "of ADP prep notes\n",
            "hash NOUN pobj of\n",
            ". PUNCT punct reeks\n",
            "Its DET poss buds\n",
            "buds NOUN nsubjpass coated\n",
            "are VERB auxpass coated\n",
            "coated VERB ROOT coated\n",
            "in ADP prep coated\n",
            "trichomes NOUN pobj in\n",
            "  SPACE  trichomes\n",
            "giving VERB advcl coated\n",
            "its DET poss foliage\n",
            "dark ADJ amod foliage\n",
            "foliage NOUN dative giving\n",
            "a DET det glint\n",
            "lustrous ADJ amod glint\n",
            "glint NOUN dobj giving\n",
            "to PART aux go\n",
            "go VERB relcl glint\n",
            "along PART prt go\n",
            "with ADP prep go\n",
            "its DET poss odor\n",
            "room NOUN npadvmod filling\n",
            "- PUNCT punct filling\n",
            "filling VERB amod odor\n",
            "odor NOUN pobj with\n",
            ". PUNCT punct coated\n",
            "This DET det uplifts\n",
            "one NUM nummod quitter\n",
            "- PUNCT punct quitter\n",
            "hitter NOUN compound quitter\n",
            "- PUNCT punct quitter\n",
            "quitter NOUN compound uplifts\n",
            "uplifts NOUN ROOT uplifts\n",
            "the DET det mind\n",
            "mind NOUN dobj uplifts\n",
            "with ADP prep uplifts\n",
            "mind NOUN npadvmod bending\n",
            "- PUNCT punct bending\n",
            "bending VERB amod euphoria\n",
            "euphoria NOUN pobj with\n",
            "that DET nsubj materializes\n",
            "materializes VERB relcl euphoria\n",
            "in ADP prep materializes\n",
            "the DET det body\n",
            "body NOUN pobj in\n",
            "as ADP prep materializes\n",
            "airy NOUN compound relaxation\n",
            "relaxation NOUN pobj as\n",
            ". PUNCT punct uplifts\n",
            "‘ PUNCT dep is\n",
            "98 NUM nummod Widow\n",
            "Aloha PROPN compound Widow\n",
            "White PROPN compound Widow\n",
            "Widow PROPN nsubj is\n",
            "is VERB ROOT is\n",
            "available ADJ acomp is\n",
            "from ADP prep available\n",
            "Pua PROPN compound 1st\n",
            "Mana PROPN compound 1st\n",
            "1st ADJ pobj from\n",
            "Hawaiian PROPN compound Bank\n",
            "Pakalōlō PROPN compound Bank\n",
            "Seed PROPN compound Bank\n",
            "Bank PROPN appos 1st\n",
            ". PUNCT punct is\n",
            "  SPACE  .\n"
          ],
          "name": "stdout"
        }
      ]
    },
    {
      "cell_type": "code",
      "metadata": {
        "id": "pYje5Rc1yvoS",
        "colab_type": "code",
        "colab": {
          "base_uri": "https://localhost:8080/",
          "height": 1000
        },
        "outputId": "3a65b586-d8b0-4566-f2f4-a6b546fd1690"
      },
      "source": [
        "for token in doc:\n",
        "    # Get the token text, part-of-speech tag and dependency label\n",
        "    token_text = token.text\n",
        "    token_pos = token.pos_\n",
        "    token_dep = token.dep_\n",
        "    # This is for formatting only\n",
        "    print(\"{:<12}{:<10}{:<10}\".format(token_text, token_pos, token_dep))"
      ],
      "execution_count": 113,
      "outputs": [
        {
          "output_type": "stream",
          "text": [
            "The         DET       det       \n",
            "‘           ADJ       punct     \n",
            "98          NUM       nummod    \n",
            "Aloha       PROPN     compound  \n",
            "White       PROPN     compound  \n",
            "Widow       PROPN     nsubj     \n",
            "is          VERB      ROOT      \n",
            "an          DET       det       \n",
            "especially  ADV       advmod    \n",
            "potent      ADJ       amod      \n",
            "cut         NOUN      attr      \n",
            "of          ADP       prep      \n",
            "White       PROPN     compound  \n",
            "Widow       PROPN     pobj      \n",
            "that        DET       nsubj     \n",
            "has         VERB      aux       \n",
            "grown       VERB      relcl     \n",
            "in          ADP       prep      \n",
            "renown      NOUN      pobj      \n",
            "alongside   ADP       prep      \n",
            "Hawaiian    ADJ       amod      \n",
            "legends     NOUN      pobj      \n",
            "like        ADP       prep      \n",
            "Maui        PROPN     compound  \n",
            "Wowie       PROPN     pobj      \n",
            "and         CCONJ     cc        \n",
            "Kona        PROPN     compound  \n",
            "Gold        PROPN     conj      \n",
            ".           PUNCT     punct     \n",
            "This        DET       det       \n",
            "White       PROPN     compound  \n",
            "Widow       PROPN     compound  \n",
            "phenotype   VERB      compound  \n",
            "reeks       NOUN      ROOT      \n",
            "of          ADP       prep      \n",
            "diesel      NOUN      pobj      \n",
            "and         CCONJ     cc        \n",
            "skunk       NOUN      conj      \n",
            "and         CCONJ     cc        \n",
            "has         VERB      conj      \n",
            "a           DET       det       \n",
            "rich        ADJ       amod      \n",
            "earthy      ADJ       amod      \n",
            "taste       NOUN      dobj      \n",
            "with        ADP       prep      \n",
            "intermittentADJ       amod      \n",
            "notes       NOUN      pobj      \n",
            "of          ADP       prep      \n",
            "hash        NOUN      pobj      \n",
            ".           PUNCT     punct     \n",
            "Its         DET       poss      \n",
            "buds        NOUN      nsubjpass \n",
            "are         VERB      auxpass   \n",
            "coated      VERB      ROOT      \n",
            "in          ADP       prep      \n",
            "trichomes   NOUN      pobj      \n",
            "            SPACE               \n",
            "giving      VERB      advcl     \n",
            "its         DET       poss      \n",
            "dark        ADJ       amod      \n",
            "foliage     NOUN      dative    \n",
            "a           DET       det       \n",
            "lustrous    ADJ       amod      \n",
            "glint       NOUN      dobj      \n",
            "to          PART      aux       \n",
            "go          VERB      relcl     \n",
            "along       PART      prt       \n",
            "with        ADP       prep      \n",
            "its         DET       poss      \n",
            "room        NOUN      npadvmod  \n",
            "-           PUNCT     punct     \n",
            "filling     VERB      amod      \n",
            "odor        NOUN      pobj      \n",
            ".           PUNCT     punct     \n",
            "This        DET       det       \n",
            "one         NUM       nummod    \n",
            "-           PUNCT     punct     \n",
            "hitter      NOUN      compound  \n",
            "-           PUNCT     punct     \n",
            "quitter     NOUN      compound  \n",
            "uplifts     NOUN      ROOT      \n",
            "the         DET       det       \n",
            "mind        NOUN      dobj      \n",
            "with        ADP       prep      \n",
            "mind        NOUN      npadvmod  \n",
            "-           PUNCT     punct     \n",
            "bending     VERB      amod      \n",
            "euphoria    NOUN      pobj      \n",
            "that        DET       nsubj     \n",
            "materializesVERB      relcl     \n",
            "in          ADP       prep      \n",
            "the         DET       det       \n",
            "body        NOUN      pobj      \n",
            "as          ADP       prep      \n",
            "airy        NOUN      compound  \n",
            "relaxation  NOUN      pobj      \n",
            ".           PUNCT     punct     \n",
            "‘           PUNCT     dep       \n",
            "98          NUM       nummod    \n",
            "Aloha       PROPN     compound  \n",
            "White       PROPN     compound  \n",
            "Widow       PROPN     nsubj     \n",
            "is          VERB      ROOT      \n",
            "available   ADJ       acomp     \n",
            "from        ADP       prep      \n",
            "Pua         PROPN     compound  \n",
            "Mana        PROPN     compound  \n",
            "1st         ADJ       pobj      \n",
            "Hawaiian    PROPN     compound  \n",
            "Pakalōlō    PROPN     compound  \n",
            "Seed        PROPN     compound  \n",
            "Bank        PROPN     appos     \n",
            ".           PUNCT     punct     \n",
            "            SPACE               \n"
          ],
          "name": "stdout"
        }
      ]
    },
    {
      "cell_type": "code",
      "metadata": {
        "id": "KSFXquBzy08V",
        "colab_type": "code",
        "colab": {
          "base_uri": "https://localhost:8080/",
          "height": 136
        },
        "outputId": "a597e43e-551c-45f0-fbac-02d9a25a0ce7"
      },
      "source": [
        "matcher = Matcher(nlp.vocab)\n",
        "\n",
        "doc = nlp(text1)\n",
        "\n",
        "# Write a pattern for adjective plus one or two nouns\n",
        "pattern = [{\"POS\": 'ADJ'}, \n",
        "#           {\"POS\": 'DET'}, \n",
        "           {\"POS\": 'NOUN', \"OP\":'+'}]\n",
        "\n",
        "# Add the pattern to the matcher and apply the matcher to the doc\n",
        "matcher.add(\"ADJ_NOUN_PATTERN\", None, pattern)\n",
        "matches = matcher(doc)\n",
        "print(\"Total matches found:\", len(matches))\n",
        "\n",
        "# Iterate over the matches and print the span text\n",
        "for match_id, start, end in matches:\n",
        "      print(\"Match found:\", doc[start:end].text)"
      ],
      "execution_count": 114,
      "outputs": [
        {
          "output_type": "stream",
          "text": [
            "Total matches found: 6\n",
            "Match found: potent cut\n",
            "Match found: Hawaiian legends\n",
            "Match found: earthy taste\n",
            "Match found: intermittent notes\n",
            "Match found: dark foliage\n",
            "Match found: lustrous glint\n"
          ],
          "name": "stdout"
        }
      ]
    }
  ]
}