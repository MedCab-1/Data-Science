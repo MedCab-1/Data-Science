{
  "nbformat": 4,
  "nbformat_minor": 0,
  "metadata": {
    "colab": {
      "name": "predictor",
      "provenance": [],
      "collapsed_sections": [],
      "authorship_tag": "ABX9TyOp5Pmws3kHh1dNfvMnN9ay",
      "include_colab_link": true
    },
    "kernelspec": {
      "name": "python3",
      "display_name": "Python 3"
    }
  },
  "cells": [
    {
      "cell_type": "markdown",
      "metadata": {
        "id": "view-in-github",
        "colab_type": "text"
      },
      "source": [
        "<a href=\"https://colab.research.google.com/github/shmilyface/Data-Science/blob/master/predictor.ipynb\" target=\"_parent\"><img src=\"https://colab.research.google.com/assets/colab-badge.svg\" alt=\"Open In Colab\"/></a>"
      ]
    },
    {
      "cell_type": "markdown",
      "metadata": {
        "id": "4ZtXlxOI79yt",
        "colab_type": "text"
      },
      "source": [
        "Predictor"
      ]
    },
    {
      "cell_type": "code",
      "metadata": {
        "id": "6ki4lCW57fA8",
        "colab_type": "code",
        "colab": {
          "base_uri": "https://localhost:8080/",
          "height": 328
        },
        "outputId": "fad72709-7097-4005-8c46-21e62f2eab05"
      },
      "source": [
        "# user input\n",
        "user_input = \"text, Relaxed, Violet, Aroused, Creative, Happy, Energetic, Flowery, Diesel\"\n",
        "\n",
        "#predict function w/ user input\n",
        "def predict_effects(user_input):\n",
        "  import basilica\n",
        "  import numpy as np\n",
        "  import pandas as pd\n",
        "  from scipy import spatial\n",
        "\n",
        "  # get data\n",
        "  !wget \n",
        "  # turn data into dataframe\n",
        "  df = pd.read_csv('med1.csv')\n",
        "\n",
        "  # get pickled trained embeddings for med cultivars\n",
        "  !wget https://github.com/MedCab-1/Data-Science/blob/master/medembedv2.pkl\n",
        "  #unpickling file of embedded cultivar descriptions\n",
        "  unpickled_df_test = pd.read_pickle(\"./medembedv2.pkl\")\n",
        "\n",
        "\n",
        "\n",
        "  # Part 1\n",
        "\n",
        "  # a function to calculate_user_text_embedding\n",
        "  # to save the embedding value in session memory\n",
        "  user_input_embedding = 0\n",
        "\n",
        "  def calculate_user_text_embedding(input, user_input_embedding):\n",
        "\n",
        "    # setting a string of two sentences for the algo to compare\n",
        "    sentences = [input]\n",
        "\n",
        "    # calculating embedding for both user_entered_text and for features\n",
        "    with basilica.Connection('36a370e3-becb-99f5-93a0-a92344e78eab') as c:\n",
        "      user_input_embedding = list(c.embed_sentences(sentences))\n",
        "    \n",
        "    return user_input_embedding\n",
        "\n",
        "  # run the function to save the embedding value in session memory\n",
        "  user_input_embedding = calculate_user_text_embedding(user_input, user_input_embedding)\n",
        "\n",
        "\n",
        "\n",
        "\n",
        "  # part 2\n",
        "  score = 0\n",
        "\n",
        "  def score_user_input_from_stored_embedding_from_stored_values(input, score, row1, user_input_embedding):\n",
        "\n",
        "    # obtains pre-calculated values from a pickled dataframe of arrays\n",
        "    embedding_stored = unpickled_df_test.loc[row1, 0]\n",
        "    \n",
        "    # calculates the similarity of user_text vs. product description\n",
        "    score = 1 - spatial.distance.cosine(embedding_stored, user_input_embedding)\n",
        "\n",
        "    # returns a variable that can be used outside of the function\n",
        "    return score\n",
        "\n",
        "\n",
        "  # Part 3\n",
        "  for i in range(2351):\n",
        "    # calls the function to set the value of 'score'\n",
        "    # which is the score of the user input\n",
        "    score = score_user_input_from_stored_embedding_from_stored_values(user_input, score, i, user_input_embedding)\n",
        "    \n",
        "    #stores the score in the dataframe\n",
        "    df.loc[i,'score'] = score\n",
        "\n",
        "  # Part 4 -\n",
        "  df_big_json = df['score'].sort_values(ascending=False)\n",
        "  df_big_json = df.copy()\n",
        "  df_big_json = df_big_json[:5]\n",
        "  df_big_json = df_big_json.to_json(orient='columns')\n",
        "\n",
        "  # Part 5: outputs as JSON object\n",
        "  return df_big_json\n",
        "\n",
        "predict_effects(user_input_effects)"
      ],
      "execution_count": 8,
      "outputs": [
        {
          "output_type": "stream",
          "text": [
            "wget: missing URL\n",
            "Usage: wget [OPTION]... [URL]...\n",
            "\n",
            "Try `wget --help' for more options.\n",
            "--2020-02-05 17:23:25--  https://github.com/MedCab-1/Data-Science/blob/master/medembedv2.pkl\n",
            "Resolving github.com (github.com)... 192.30.255.112\n",
            "Connecting to github.com (github.com)|192.30.255.112|:443... connected.\n",
            "HTTP request sent, awaiting response... 200 OK\n",
            "Length: unspecified [text/html]\n",
            "Saving to: ‘medembedv2.pkl.2’\n",
            "\n",
            "medembedv2.pkl.2        [ <=>                ]  63.84K  --.-KB/s    in 0.02s   \n",
            "\n",
            "2020-02-05 17:23:26 (4.12 MB/s) - ‘medembedv2.pkl.2’ saved [65374]\n",
            "\n"
          ],
          "name": "stdout"
        },
        {
          "output_type": "execute_result",
          "data": {
            "text/plain": [
              "'{\"Strain\":{\"0\":\"100-Og\",\"1\":\"98-White-Widow\",\"2\":\"1024\",\"3\":\"13-Dawgs\",\"4\":\"24K-Gold\"},\"Type\":{\"0\":\"hybrid\",\"1\":\"hybrid\",\"2\":\"sativa\",\"3\":\"hybrid\",\"4\":\"hybrid\"},\"Rating\":{\"0\":4.0,\"1\":4.7,\"2\":4.4,\"3\":4.2,\"4\":4.6},\"Effects\":{\"0\":\"Creative,Energetic,Tingly,Euphoric,Relaxed\",\"1\":\"Relaxed,Aroused,Creative,Happy,Energetic\",\"2\":\"Uplifted,Happy,Relaxed,Energetic,Creative\",\"3\":\"Tingly,Creative,Hungry,Relaxed,Uplifted\",\"4\":\"Happy,Relaxed,Euphoric,Uplifted,Talkative\"},\"Flavor\":{\"0\":\"Earthy,Sweet,Citrus\",\"1\":\"Flowery,Violet,Diesel\",\"2\":\"Spicy\\\\/Herbal,Sage,Woody\",\"3\":\"Apricot,Citrus,Grapefruit\",\"4\":\"Citrus,Earthy,Orange\"},\"Description\":{\"0\":\"$100 OG is a 50\\\\/50 hybrid strain that packs a strong punch. The name supposedly refers to both its strength and high price when it first started showing up in Hollywood. As a plant, $100 OG tends to produce large dark green buds with few stems. Users report a strong body effect of an indica for pain relief with the more alert, cerebral feeling thanks to its sativa side.\",\"1\":\"The \\\\u201898 Aloha White Widow is an especially potent cut of White Widow that has grown in renown alongside Hawaiian legends like Maui Wowie and Kona Gold. This White Widow phenotype reeks of diesel and skunk and has a rich earthy taste with intermittent notes of hash. Its buds are coated in trichomes, giving its dark foliage a lustrous glint to go along with its room-filling odor. This one-hitter-quitter uplifts the mind with mind-bending euphoria that materializes in the body as airy relaxation. \\\\u201898 Aloha White Widow is available from Pua Mana 1st Hawaiian Pakal\\\\u014dl\\\\u014d Seed Bank. \\\\u00a0\",\"2\":\"1024 is a sativa-dominant hybrid bred in Spain by Medical Seeds Co. The breeders claim to guard the secret genetics due to security reasons, but regardless of its genetic heritage, 1024 is a THC powerhouse with a sweet and spicy bouquet. Subtle fruit flavors mix with an herbal musk to produce uplifting sativa effects. One specific phenotype is noted for having a pungent odor that fills a room, similar to burning incense.\",\"3\":\"13 Dawgs is a hybrid of G13 and Chemdawg genetics bred by Canadian LP Delta 9 BioTech. The two potent strains mix to create a balance between indica and sativa effects. 13 Dawgs has a sweet earthy musk that brings a blend of woody\\\\u00a0citrus flavors. The effects of 13 Dawgs induce a happy, relaxed body buzz with a creative and focused mind that counters depression and stimulates the appetite.\",\"4\":\"Also known as Kosher Tangie, 24k Gold is a 60% indica-dominant hybrid that combines the legendary LA strain Kosher Kush with champion sativa Tangie to create something quite unique. Growing tall in its vegetative cycle and very stretchy in flower, this one will need an experienced hand when grown indoors. Most phenotypes will exhibit a sweet orange aroma from the Tangie along with the dark coloration of the Kosher Kush, and will offer a strong citrus flavor when smoked or vaped. THC levels range from 18% to 24%; definitely not for novice users!\\\\u00a0\"},\"score\":{\"0\":0.8958629381,\"1\":0.9835731748,\"2\":0.9267263907,\"3\":0.8898603618,\"4\":0.9143115221}}'"
            ]
          },
          "metadata": {
            "tags": []
          },
          "execution_count": 8
        }
      ]
    },
    {
      "cell_type": "code",
      "metadata": {
        "id": "ot1EfqyGLq3t",
        "colab_type": "code",
        "colab": {
          "base_uri": "https://localhost:8080/",
          "height": 35
        },
        "outputId": "4d4441db-7ba4-4f14-9c9d-8bb9b2a7ad9a"
      },
      "source": [
        "'''\n",
        "For Flask App: \n",
        "\n",
        "def input2output(q, model):\n",
        "    probs = model.predict_proba([q])[0]\n",
        "    matches = []\n",
        "    for i in range(len(probs)):\n",
        "        if probs[i] > 0.0:\n",
        "            matches.append((i, probs[i]))\n",
        "    matches.sort(key=lambda x:x[1], reverse=True)\n",
        "    idxs = [x[0] for x in matches]\n",
        "    return idxs\n",
        "\n",
        "'''"
      ],
      "execution_count": 9,
      "outputs": [
        {
          "output_type": "execute_result",
          "data": {
            "text/plain": [
              "'\\nFor Flask App: \\n'"
            ]
          },
          "metadata": {
            "tags": []
          },
          "execution_count": 9
        }
      ]
    },
    {
      "cell_type": "code",
      "metadata": {
        "id": "XyUbSMjQYZt-",
        "colab_type": "code",
        "colab": {}
      },
      "source": [
        ""
      ],
      "execution_count": 0,
      "outputs": []
    }
  ]
}